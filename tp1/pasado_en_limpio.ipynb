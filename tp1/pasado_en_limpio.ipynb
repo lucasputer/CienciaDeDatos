{
 "cells": [
  {
   "cell_type": "code",
   "execution_count": 1,
   "metadata": {
    "collapsed": true
   },
   "outputs": [],
   "source": [
    "# Imports y setup\n",
    "\n",
    "import pandas as pd\n",
    "import numpy as np\n",
    "import random\n",
    "import matplotlib.pyplot as plt\n",
    "import seaborn as sns; sns.set_style(\"darkgrid\")\n",
    "from scipy import stats\n",
    "sns.plt = plt\n",
    "np.random.seed(1) # No estoy seguro si es necesario\n",
    "df = pd.read_csv('tiempos.txt', sep=' ')"
   ]
  },
  {
   "cell_type": "code",
   "execution_count": 2,
   "metadata": {},
   "outputs": [
    {
     "name": "stdout",
     "output_type": "stream",
     "text": [
      "          Atleta  tiempo_sol  tiempo_nublado  tiempo_lluvia\n",
      "count  12.000000   12.000000       12.000000      12.000000\n",
      "mean    6.500000   13.908333       13.866667      33.158333\n",
      "std     3.605551    2.025949        1.789024      49.079332\n",
      "min     1.000000   11.000000       11.300000      18.200000\n",
      "25%     3.750000   12.150000       12.475000      18.775000\n",
      "50%     6.500000   14.400000       14.100000      19.050000\n",
      "75%     9.250000   15.350000       14.950000      19.250000\n",
      "max    12.000000   17.000000       16.700000     189.000000\n",
      "Atleta  tiempo_sol  tiempo_nublado  tiempo_lluvia\n",
      "     1        11.1            11.3           19.4\n",
      "     2        13.0            12.8           18.2\n",
      "     3        16.1            16.0           19.0\n",
      "     4        14.5            14.1           18.9\n",
      "     5        12.0            12.5           19.1\n",
      "     6        11.0            11.6           18.7\n",
      "     7        15.1            14.6          189.0\n",
      "     8        14.4            14.2           19.9\n",
      "     9        16.1            16.1           18.5\n",
      "    10        17.0            16.7           19.2\n",
      "    11        12.2            12.4           18.8\n",
      "    12        14.4            14.1           19.2\n"
     ]
    }
   ],
   "source": [
    "# Estadisticas basicas\n",
    "print(df.describe())\n",
    "\n",
    "# El Dataset\n",
    "print(df.to_string(index=False))\n"
   ]
  },
  {
   "cell_type": "code",
   "execution_count": 3,
   "metadata": {},
   "outputs": [
    {
     "name": "stderr",
     "output_type": "stream",
     "text": [
      "/home/brian/Documents/facultad/cienciadatos/venv/local/lib/python2.7/site-packages/seaborn/timeseries.py:183: UserWarning: The tsplot function is deprecated and will be removed or replaced (in a substantially altered version) in a future release.\n",
      "  warnings.warn(msg, UserWarning)\n"
     ]
    },
    {
     "data": {
      "image/png": "[encoded data removed]",
      "text/plain": [
       "<matplotlib.figure.Figure at 0x7f0af7291a50>"
      ]
     },
     "metadata": {},
     "output_type": "display_data"
    },
    {
     "data": {
      "image/png": "[encoded data removed]",
      "text/plain": [
       "<matplotlib.figure.Figure at 0x7f0af5196a50>"
      ]
     },
     "metadata": {},
     "output_type": "display_data"
    }
   ],
   "source": [
    "sns.tsplot(time=df['Atleta'], data=df['tiempo_sol'], interpolate=False, color=\"blue\")\n",
    "sns.tsplot(time=df['Atleta'], data=df['tiempo_nublado'], interpolate=False, color=\"red\")\n",
    "sns.tsplot(time=df['Atleta'], data=df['tiempo_lluvia'], interpolate=False, color=\"green\")\n",
    "plt.show()\n",
    "\n",
    "sns.tsplot(time=df['Atleta'], data=df['tiempo_sol'], interpolate=False, color=\"blue\")\n",
    "sns.tsplot(time=df['Atleta'], data=df['tiempo_nublado'], interpolate=False, color=\"red\")\n",
    "sns.tsplot(time=df['Atleta'], data=df['tiempo_lluvia'], interpolate=False, color=\"green\")\n",
    "LLUVIA_LIMIT = 30\n",
    "plt.ylim((0,LLUVIA_LIMIT))\n",
    "plt.show()\n",
    "\n",
    "# Vemos que hay un valor de tiempo de atleta en lluvia '189' que tomamos como outlier por la \n",
    "# diferencia marcada con el resto de los datos. Lo filtramos y guardamos la nueva lista:\n",
    "\n",
    "\n",
    "df_filtrado = df[df['tiempo_lluvia'] < LLUVIA_LIMIT]"
   ]
  },
  {
   "cell_type": "code",
   "execution_count": 4,
   "metadata": {
    "collapsed": true
   },
   "outputs": [],
   "source": [
    "def permutation_test_flip(data1, data2, func):\n",
    "    assert(len(data1) == len(data2))\n",
    "    size = len(data1)\n",
    "    deltas = []\n",
    "    for i in range(2**size):\n",
    "        copy1 = list(data1)\n",
    "        copy2 = list(data2)\n",
    "        bin_i = \"{0:b}\".format(i)\n",
    "        bin_i = ['0' for j in range(size - len(bin_i))] + list(bin_i)\n",
    "        for j, digit in enumerate(bin_i):\n",
    "            if int(digit):\n",
    "                copy1[j], copy2[j] = copy2[j], copy1[j]\n",
    "        deltas.append(np.average(copy1) - np.average(copy2))\n",
    "    print\n",
    "    delta_0 = np.average(data1) - np.average(data2)\n",
    "\n",
    "    reject_delta_count = len(filter(lambda x: func(x) >= delta_0, deltas))\n",
    "    print(\"----------- Test de Permutacion -----------\")\n",
    "    print(\"Delta 0: \"+ str(delta_0))\n",
    "    print(\"Max deltas: \"+ str(max(deltas)))\n",
    "    print(\"Cantidad mayores a delta 0: \"+ str(reject_delta_count) + \" de \" + str(len(deltas)))\n",
    "    print(\"Propoción de rechazados: \"+ str(float(reject_delta_count)/(2**len(data1)))) \n",
    "    print(\"-------------------------------------------\")\n",
    "    return deltas"
   ]
  },
  {
   "cell_type": "code",
   "execution_count": 27,
   "metadata": {},
   "outputs": [
    {
     "name": "stdout",
     "output_type": "stream",
     "text": [
      "(0.9382138848304749, 0.47528600692749023)\n",
      "(0.9423919916152954, 0.5296684503555298)\n",
      "(0.9852456450462341, 0.9883151054382324)\n"
     ]
    }
   ],
   "source": [
    "# Asumimos que la habilidad de un atleta sigue una distribucion normal en la poblacion\n",
    "# Es razonable asumir que todos los datos tienen distribucion normal\n",
    "\n",
    "# Hacemos un test de normalidad de nuestros datos\n",
    "\n",
    "print stats.shapiro(df['tiempo_sol'])\n",
    "print stats.shapiro(df['tiempo_nublado'])\n",
    "print stats.shapiro(df_filtrado['tiempo_lluvia'])\n",
    "\n",
    "# No podemos rechazar que los datos vengan de distribuciones normales"
   ]
  },
  {
   "cell_type": "code",
   "execution_count": 16,
   "metadata": {},
   "outputs": [],
   "source": [
    "# 1) ¿Los atletas son mas lentos en dias de lluvia?"
   ]
  },
  {
   "cell_type": "code",
   "execution_count": 6,
   "metadata": {},
   "outputs": [
    {
     "name": "stdout",
     "output_type": "stream",
     "text": [
      "\n",
      "----------- Test de Permutacion -----------\n",
      "Delta 0: 5.19090909091\n",
      "Max deltas: 5.19090909091\n",
      "Cantidad mayores a delta 0: 1 de 2048\n",
      "Propoción de rechazados: 0.00048828125\n",
      "-------------------------------------------\n"
     ]
    },
    {
     "data": {
      "image/png": "[encoded data removed]",
      "text/plain": [
       "<matplotlib.figure.Figure at 0x7f0af7292bd0>"
      ]
     },
     "metadata": {},
     "output_type": "display_data"
    }
   ],
   "source": [
    "# Utilizamos un test de permutaciones. Como las muestran estan apareadas por el corredor,\n",
    "# las permutaciones consisten en invertir el orden de las muestras de corredores determinados\n",
    "\n",
    "\n",
    "deltas = permutation_test_flip(df_filtrado['tiempo_lluvia'],df_filtrado['tiempo_sol'],(lambda x: x) )\n",
    "sns.distplot(deltas, kde=False, rug=False)\n",
    "sns.plt.show()\n",
    "\n",
    "# El p-valor computado nos dice la probabilidad de que el delta entre las medias sea igual al delta0 o mayor.\n",
    "# El p-valor da muy muy bajo (todas las muestras de lluvia son mayores que las de sol)\n",
    "\n",
    "# Podemos rechazar la hipotesis nula de que ambas muestras vienen tienen la misma media.\n",
    "\n",
    "\n",
    "# Respuesta: Tenemos suficiente informacion para afirmar que los atletas son mas lentos en dias de lluvia"
   ]
  },
  {
   "cell_type": "code",
   "execution_count": 7,
   "metadata": {},
   "outputs": [
    {
     "data": {
      "image/png": "[encoded data removed]",
      "text/plain": [
       "<matplotlib.figure.Figure at 0x7f0af4ecefd0>"
      ]
     },
     "metadata": {},
     "output_type": "display_data"
    }
   ],
   "source": [
    "# 2) Pregunta: ¿El cielo nublado no influye en los tiempos de los atletas?\n",
    "\n",
    "# Cuando esta nublado, los datos varian de forma similar a cuando hay sol\n",
    "\n",
    "sns.regplot(x=df_filtrado['tiempo_sol'], y=df_filtrado['tiempo_nublado'])\n",
    "sns.plt.show()\n"
   ]
  },
  {
   "cell_type": "code",
   "execution_count": 17,
   "metadata": {},
   "outputs": [
    {
     "name": "stdout",
     "output_type": "stream",
     "text": [
      "(0.99224199979513195, 1.8469595486418115e-09)\n"
     ]
    }
   ],
   "source": [
    "# Tenemos evidencia de una correlacion lineal alta entre los datos de cielo nublado y soleado\n",
    "\n",
    "print(stats.pearsonr(df_filtrado['tiempo_sol'],df_filtrado['tiempo_nublado']))\n"
   ]
  },
  {
   "cell_type": "code",
   "execution_count": 21,
   "metadata": {},
   "outputs": [
    {
     "name": "stdout",
     "output_type": "stream",
     "text": [
      "BartlettResult(statistic=0.1263588326837452, pvalue=0.72223760876724175)\n",
      "Ttest_relResult(statistic=1.600386423731163e-15, pvalue=0.99999999999999878)\n"
     ]
    }
   ],
   "source": [
    "print stats.bartlett(df_filtrado['tiempo_sol'], df_filtrado['tiempo_nublado'])\n",
    "# No podemos rechazar que tengan la misma varianza\n",
    "# Creemos que si la tienen\n",
    "\n",
    "# T-Test con variables emparentadas con hipotesis nula \"Tienen misma media\"\n",
    "\n",
    "print(stats.ttest_rel(df_filtrado['tiempo_sol'],df_filtrado['tiempo_nublado']))\n",
    "\n",
    "# No podemos rechazar que tengan la misma media"
   ]
  },
  {
   "cell_type": "code",
   "execution_count": 11,
   "metadata": {},
   "outputs": [
    {
     "name": "stdout",
     "output_type": "stream",
     "text": [
      "\n",
      "----------- Test de Permutacion -----------\n",
      "Delta 0: 0.0416666666667\n",
      "Max deltas: 0.291666666667\n",
      "Cantidad mayores a delta 0: 2820 de 4096\n",
      "Propoción de rechazados: 0.6884765625\n",
      "-------------------------------------------\n"
     ]
    },
    {
     "data": {
      "image/png": "[encoded data removed]",
      "text/plain": [
       "<matplotlib.figure.Figure at 0x7f0af506d3d0>"
      ]
     },
     "metadata": {},
     "output_type": "display_data"
    }
   ],
   "source": [
    "# Aqui tambien podemos utilizar un test de permutaciones con \"flips\"\n",
    "# Para ver la probabilidad de ver resultados tan o mas extremos\n",
    "# Dada la hipotesiis de que ambos vienen de la misma media\n",
    "\n",
    "# Usamos df ya que no necesitamos descartar los datos del atleta outlier\n",
    "\n",
    "deltas = permutation_test_flip(df['tiempo_sol'],df['tiempo_nublado'],(lambda x: abs(x)))\n",
    "sns.distplot(deltas, kde=False, rug=False)\n",
    "sns.plt.show()\n",
    "\n",
    "# No podemos rechazar la hipotesis de que tengan la misma media\n",
    "\n",
    "# Respuesta: No tenemos suficiente informacion para decir afirmar que \n",
    "# \"El cielo nublado no influye en los tiempos de los atletas\"\n",
    "# Creemos que si por lo que vemos en los graficos"
   ]
  },
  {
   "cell_type": "code",
   "execution_count": 12,
   "metadata": {},
   "outputs": [
    {
     "data": {
      "image/png": "[encoded data removed]",
      "text/plain": [
       "<matplotlib.figure.Figure at 0x7f0af4e4d890>"
      ]
     },
     "metadata": {},
     "output_type": "display_data"
    }
   ],
   "source": [
    "# 3) La velocidad en dı́as de lluvia es independiente del atleta.\n",
    "\n",
    "# Es razonable suponer que el tiempo que tarda un corredor es una buena medida de su habilidad\n",
    "# Y que esta habilidad a su vez se relaciona tambien con su habilidad en la lluvia\n",
    "# Si es que las mediciones en lluvia son dependientes de esta.\n",
    "\n",
    "sns.regplot(x=df_filtrado['tiempo_sol'], y=df_filtrado['tiempo_lluvia'])\n",
    "sns.plt.show()"
   ]
  },
  {
   "cell_type": "code",
   "execution_count": 13,
   "metadata": {},
   "outputs": [
    {
     "name": "stdout",
     "output_type": "stream",
     "text": [
      "(0.064963553876733887, 0.84949358072453474)\n"
     ]
    }
   ],
   "source": [
    "print(stats.pearsonr(df_filtrado['tiempo_sol'],df_filtrado['tiempo_lluvia']))\n",
    "# No tenemos evidencia de correlacion lineal entre tiempo de lluvia y tiempo soleado"
   ]
  },
  {
   "cell_type": "code",
   "execution_count": 14,
   "metadata": {},
   "outputs": [
    {
     "name": "stdout",
     "output_type": "stream",
     "text": [
      "BartlettResult(statistic=16.625129578948425, pvalue=4.5543575568424302e-05)\n"
     ]
    }
   ],
   "source": [
    "print stats.bartlett(df_filtrado['tiempo_sol'], df_filtrado['tiempo_lluvia'])\n",
    "# Con este test podemos concluir que el los tiempos de sol y tiempos de lluvia tienen varianzas distintas\n",
    "# Mas aun, podemos decir que la varianza de sol es mayor\n",
    "# Esto es consistente con la hipotesis de que los tiempos en lluvia son independientes del atleta, pues varian menos\n",
    "\n",
    "\n",
    "# Creemos que no podemos cuantificar en un test si las muestras son independientes del atleta o no\n",
    "# Si tuviesemos varias mediciones por atleta podriamos comparar las \n",
    "# mediciones de dos atletas con la hipotesis de que tienen la misma media\n",
    "\n",
    "# Respuesta: No tenemos suficiente informacion para decir que \n",
    "# \"La velocidad en dı́as de lluvia es independiente del atleta\"\n",
    "# Pero creemos que si"
   ]
  },
  {
   "cell_type": "code",
   "execution_count": 24,
   "metadata": {},
   "outputs": [
    {
     "name": "stdout",
     "output_type": "stream",
     "text": [
      "F_onewayResult(statistic=36.907516413855539, pvalue=8.1830487111034126e-09)\n"
     ]
    }
   ],
   "source": [
    "# 4) El clima influye en la velocidad de los atletas.\n",
    "\n",
    "# Si asumimos que los datos vienen de una distribucion de misma varianza, podria utilizar el test f_oneway (ANOVA)\n",
    "print(stats.f_oneway(df_filtrado['tiempo_sol'],df_filtrado['tiempo_nublado'], df_filtrado['tiempo_lluvia']))\n",
    "\n",
    "# Tenemos suficiente evidencia para rechazar la hipotesis nula de que las medias son iguales. \n",
    "# Es decir que concluimos que las medias para tiempo soleado, tiempo nublado y tiempo de lluvia son distintas.\n",
    "\n",
    "# Notar que utilizamos un test que no utiliza la hipotesis de que apareamiento entre los dias.\n",
    "# Es decir, no importó que hayamos tomado muestras de soleado nublado y lluvia para mismos corredores.\n",
    "# Aun asi, tuvimos suficiente evidencia para rechazar la hipotesis nula"
   ]
  },
  {
   "cell_type": "code",
   "execution_count": 28,
   "metadata": {
    "collapsed": true
   },
   "outputs": [],
   "source": [
    "# ¿Sirve entrenar en dias de lluvia?\n",
    "\n",
    "# Tenemos que definir que signfifica para nosotros que sirva\n"
   ]
  },
  {
   "cell_type": "code",
   "execution_count": 29,
   "metadata": {},
   "outputs": [
    {
     "data": {
      "image/png": "[encoded data removed]",
      "text/plain": [
       "<matplotlib.figure.Figure at 0x7f0af4e80fd0>"
      ]
     },
     "metadata": {},
     "output_type": "display_data"
    }
   ],
   "source": [
    "# Podemos creer que aquellos que alcanzaron un mejor rendimiento en la lluvia, \n",
    "# alcanzan un mejor rendimiento en tiempo soleado\n",
    "\n",
    "sns.regplot(x=df_filtrado['tiempo_lluvia'], y=df_filtrado['tiempo_sol'])\n",
    "sns.plt.show()\n",
    "\n",
    "# Graficamente vemos que esto no ocurre. Mas aun, dado que creemos que los tiempose en lluvia  \n",
    "# son independientes del atleta, estos tiempos no nos aportan informacion"
   ]
  },
  {
   "cell_type": "code",
   "execution_count": 30,
   "metadata": {},
   "outputs": [
    {
     "name": "stdout",
     "output_type": "stream",
     "text": [
      "(0.064963553876733887, 0.84949358072453474)\n"
     ]
    }
   ],
   "source": [
    "# La correlacion lineal es muy baja si comparamos los dias que llueve a los dias soleados\n",
    "# (No hay evidencia de no correlacion)\n",
    "\n",
    "print(stats.pearsonr(df_filtrado['tiempo_lluvia'],df_filtrado['tiempo_sol']))\n"
   ]
  },
  {
   "cell_type": "code",
   "execution_count": null,
   "metadata": {
    "collapsed": true
   },
   "outputs": [],
   "source": [
    "# ¿Que le recomendariamos al entrenador?\n",
    "\n"
   ]
  }
 ],
 "metadata": {
  "kernelspec": {
   "display_name": "Python 2",
   "language": "python",
   "name": "python2"
  },
  "language_info": {
   "codemirror_mode": {
    "name": "ipython",
    "version": 2
   },
   "file_extension": ".py",
   "mimetype": "text/x-python",
   "name": "python",
   "nbconvert_exporter": "python",
   "pygments_lexer": "ipython2",
   "version": "2.7.12"
  }
 },
 "nbformat": 4,
 "nbformat_minor": 2
}
