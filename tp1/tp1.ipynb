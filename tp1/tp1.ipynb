{
 "cells": [
  {
   "cell_type": "code",
   "execution_count": 10,
   "metadata": {
    "collapsed": true
   },
   "outputs": [],
   "source": [
    "import pandas as pd\n",
    "import numpy as np\n",
    "import random\n",
    "import matplotlib.pyplot as plt\n",
    "import seaborn as sns; sns.set_style(\"darkgrid\")\n",
    "from scipy import stats\n",
    "sns.plt = plt\n",
    "np.random.seed(1) # No estoy seguro si es necesario\n"
   ]
  },
  {
   "cell_type": "code",
   "execution_count": 2,
   "metadata": {},
   "outputs": [
    {
     "name": "stdout",
     "output_type": "stream",
     "text": [
      "          Atleta  tiempo_sol  tiempo_nublado  tiempo_lluvia\n",
      "count  12.000000   12.000000       12.000000      12.000000\n",
      "mean    6.500000   13.908333       13.866667      33.158333\n",
      "std     3.605551    2.025949        1.789024      49.079332\n",
      "min     1.000000   11.000000       11.300000      18.200000\n",
      "25%     3.750000   12.150000       12.475000      18.775000\n",
      "50%     6.500000   14.400000       14.100000      19.050000\n",
      "75%     9.250000   15.350000       14.950000      19.250000\n",
      "max    12.000000   17.000000       16.700000     189.000000\n",
      "    Atleta  tiempo_sol  tiempo_nublado  tiempo_lluvia\n",
      "1        2        13.0            12.8           18.2\n",
      "2        3        16.1            16.0           19.0\n",
      "3        4        14.5            14.1           18.9\n",
      "4        5        12.0            12.5           19.1\n",
      "5        6        11.0            11.6           18.7\n",
      "6        7        15.1            14.6          189.0\n",
      "7        8        14.4            14.2           19.9\n",
      "8        9        16.1            16.1           18.5\n",
      "9       10        17.0            16.7           19.2\n",
      "10      11        12.2            12.4           18.8\n",
      "11      12        14.4            14.1           19.2\n"
     ]
    }
   ],
   "source": [
    "df = pd.read_csv('tiempos.txt', sep=' ')\n",
    "\n",
    "print(df.describe())\n",
    "print(df.tail(11))\n"
   ]
  },
  {
   "cell_type": "code",
   "execution_count": 11,
   "metadata": {
    "scrolled": true
   },
   "outputs": [
    {
     "data": {
      "image/png": "[encoded data removed]",
      "text/plain": [
       "<matplotlib.figure.Figure at 0x7f353a19a610>"
      ]
     },
     "metadata": {},
     "output_type": "display_data"
    },
    {
     "data": {
      "image/png": "[encoded data removed]",
      "text/plain": [
       "<matplotlib.figure.Figure at 0x7f353a102290>"
      ]
     },
     "metadata": {},
     "output_type": "display_data"
    }
   ],
   "source": [
    "df = pd.read_csv('tiempos.txt', sep=' ')\n",
    "sns.tsplot(time=df['Atleta'], data=df['tiempo_sol'], interpolate=False, color=\"blue\")\n",
    "sns.tsplot(time=df['Atleta'], data=df['tiempo_nublado'], interpolate=False, color=\"red\")\n",
    "sns.tsplot(time=df['Atleta'], data=df['tiempo_lluvia'], interpolate=False, color=\"green\")\n",
    "plt.show()\n",
    "\n",
    "sns.tsplot(time=df['Atleta'], data=df['tiempo_sol'], interpolate=False, color=\"blue\")\n",
    "sns.tsplot(time=df['Atleta'], data=df['tiempo_nublado'], interpolate=False, color=\"red\")\n",
    "sns.tsplot(time=df['Atleta'], data=df['tiempo_lluvia'], interpolate=False, color=\"green\")\n",
    "\n",
    "LLUVIA_LIMIT = 30\n",
    "sns.plt.ylim((0,LLUVIA_LIMIT))\n",
    "sns.plt.show()\n"
   ]
  },
  {
   "cell_type": "code",
   "execution_count": 9,
   "metadata": {},
   "outputs": [
    {
     "name": "stdout",
     "output_type": "stream",
     "text": [
      "4.6\n",
      "0\n",
      "0.0\n"
     ]
    },
    {
     "data": {
      "image/png": "[encoded data removed]",
      "text/plain": [
       "<matplotlib.figure.Figure at 0x7f353a132a10>"
      ]
     },
     "metadata": {},
     "output_type": "display_data"
    }
   ],
   "source": [
    "\n",
    "# Vamos a ver si los atletas son mas lentos en dias de lluvia que en dias soleados.\n",
    "#para eso vamos a hacer un test de permutacion\n",
    "\n",
    "# Creo numpy array con datos soleados y datos de lluvia sin outlier en tuplas indicando su grupo\n",
    "datos_sol = df.values[:,1]\n",
    "datos_lluvia = np.array(filter(lambda x : x < LLUVIA_LIMIT, df.values[:,3]))\n",
    "\n",
    "delta_0 = np.median(datos_lluvia) - np.median(datos_sol)\n",
    "print(delta_0)\n",
    "\n",
    "datos_bool =  np.concatenate([np.zeros(datos_lluvia.size, dtype=bool),np.ones(datos_sol.size, dtype=bool)])\n",
    "datos_val = np.concatenate([datos_sol,datos_lluvia])\n",
    "\n",
    "PERM_COUNT = 100000\n",
    "\n",
    "def simulate():\n",
    "    perm = np.random.permutation(datos_bool)\n",
    "    ll_sum = 0\n",
    "    ll_count = 0\n",
    "    s_sum = 0\n",
    "    s_count = 0\n",
    "    for is_soleado, val in zip(perm, datos_val):\n",
    "        if is_soleado:\n",
    "            s_count += 1\n",
    "            s_sum += val\n",
    "        else:\n",
    "            ll_count += 1\n",
    "            ll_sum += val\n",
    "    return (ll_sum/ll_count) - (s_sum/s_count)\n",
    "        \n",
    "deltas = np.array([simulate() for i in range(PERM_COUNT)])\n",
    "reject_delta_count = len(filter(lambda x: x > delta_0, deltas))\n",
    "print reject_delta_count\n",
    "print float(reject_delta_count)/PERM_COUNT\n",
    "\n",
    "\n",
    "sns.distplot(deltas, kde=False, rug=False)\n",
    "sns.plt.show()\n",
    "\n",
    "\n",
    "\n",
    "\n",
    "\n"
   ]
  },
  {
   "cell_type": "code",
   "execution_count": 17,
   "metadata": {},
   "outputs": [
    {
     "data": {
      "image/png": "[encoded data removed]",
      "text/plain": [
       "<matplotlib.figure.Figure at 0x7f3539784390>"
      ]
     },
     "metadata": {},
     "output_type": "display_data"
    }
   ],
   "source": [
    "df = df[df['tiempo_lluvia'] < LLUVIA_LIMIT]\n",
    "\n",
    "sns.regplot(x=df['tiempo_lluvia'], y=df['tiempo_sol'])\n",
    "sns.plt.show()\n",
    "\n",
    "# No hay correlacion entre la performance en lluvia y la performance en dias soleados\n",
    "# Esto puede deberse a que todos tiene casi la misma performance en lluvia"
   ]
  },
  {
   "cell_type": "code",
   "execution_count": null,
   "metadata": {
    "collapsed": true
   },
   "outputs": [],
   "source": []
  },
  {
   "cell_type": "code",
   "execution_count": null,
   "metadata": {
    "collapsed": true
   },
   "outputs": [],
   "source": []
  },
  {
   "cell_type": "code",
   "execution_count": null,
   "metadata": {
    "collapsed": true
   },
   "outputs": [],
   "source": []
  }
 ],
 "metadata": {
  "kernelspec": {
   "display_name": "Python 2",
   "language": "python",
   "name": "python2"
  },
  "language_info": {
   "codemirror_mode": {
    "name": "ipython",
    "version": 2
   },
   "file_extension": ".py",
   "mimetype": "text/x-python",
   "name": "python",
   "nbconvert_exporter": "python",
   "pygments_lexer": "ipython2",
   "version": "2.7.12"
  }
 },
 "nbformat": 4,
 "nbformat_minor": 2
}
