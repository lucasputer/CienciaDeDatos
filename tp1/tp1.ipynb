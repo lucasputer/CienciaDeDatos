{
 "cells": [
  {
   "cell_type": "code",
   "execution_count": 20,
   "metadata": {
    "collapsed": true
   },
   "outputs": [],
   "source": [
    "import pandas as pd\n",
    "import numpy as np\n",
    "import seaborn as sns; sns.set_style(\"darkgrid\")\n",
    "import matplotlib.pyplot as plt\n",
    "from scipy import stats"
   ]
  },
  {
   "cell_type": "code",
   "execution_count": 21,
   "metadata": {},
   "outputs": [
    {
     "name": "stdout",
     "output_type": "stream",
     "text": [
      "          Atleta  tiempo_sol  tiempo_nublado  tiempo_lluvia\n",
      "count  12.000000   12.000000       12.000000      12.000000\n",
      "mean    6.500000   13.908333       13.866667      33.158333\n",
      "std     3.605551    2.025949        1.789024      49.079332\n",
      "min     1.000000   11.000000       11.300000      18.200000\n",
      "25%     3.750000   12.150000       12.475000      18.775000\n",
      "50%     6.500000   14.400000       14.100000      19.050000\n",
      "75%     9.250000   15.350000       14.950000      19.250000\n",
      "max    12.000000   17.000000       16.700000     189.000000\n",
      "    Atleta  tiempo_sol  tiempo_nublado  tiempo_lluvia\n",
      "1        2        13.0            12.8           18.2\n",
      "2        3        16.1            16.0           19.0\n",
      "3        4        14.5            14.1           18.9\n",
      "4        5        12.0            12.5           19.1\n",
      "5        6        11.0            11.6           18.7\n",
      "6        7        15.1            14.6          189.0\n",
      "7        8        14.4            14.2           19.9\n",
      "8        9        16.1            16.1           18.5\n",
      "9       10        17.0            16.7           19.2\n",
      "10      11        12.2            12.4           18.8\n",
      "11      12        14.4            14.1           19.2\n"
     ]
    }
   ],
   "source": [
    "df = pd.read_csv('tiempos.txt', sep=' ')\n",
    "\n",
    "print(df.describe())\n",
    "print(df.tail(11))\n"
   ]
  },
  {
   "cell_type": "code",
   "execution_count": 22,
   "metadata": {},
   "outputs": [
    {
     "data": {
      "image/png": "[encoded data removed]",
      "text/plain": [
       "<matplotlib.figure.Figure at 0x109fe89d0>"
      ]
     },
     "metadata": {},
     "output_type": "display_data"
    },
    {
     "data": {
      "image/png": "[encoded data removed]",
      "text/plain": [
       "<matplotlib.figure.Figure at 0x10a1a3950>"
      ]
     },
     "metadata": {},
     "output_type": "display_data"
    }
   ],
   "source": [
    "sns.tsplot(time=df['Atleta'], data=df['tiempo_sol'], interpolate=False, color=\"blue\")\n",
    "sns.tsplot(time=df['Atleta'], data=df['tiempo_nublado'], interpolate=False, color=\"red\")\n",
    "sns.tsplot(time=df['Atleta'], data=df['tiempo_lluvia'], interpolate=False, color=\"green\")\n",
    "sns.plt.show()\n",
    "\n",
    "sns.tsplot(time=df['Atleta'], data=df['tiempo_sol'], interpolate=False, color=\"blue\")\n",
    "sns.tsplot(time=df['Atleta'], data=df['tiempo_nublado'], interpolate=False, color=\"red\")\n",
    "sns.tsplot(time=df['Atleta'], data=df['tiempo_lluvia'], interpolate=False, color=\"green\")\n",
    "sns.plt.ylim((10,24))\n",
    "sns.plt.show()\n"
   ]
  },
  {
   "cell_type": "code",
   "execution_count": null,
   "metadata": {
    "collapsed": true
   },
   "outputs": [],
   "source": [
    "# Vamos a ver si los atletas son m´as lentos en d´ıas de lluvia que en dias soleados."
   ]
  }
 ],
 "metadata": {
  "kernelspec": {
   "display_name": "Python 2",
   "language": "python",
   "name": "python2"
  },
  "language_info": {
   "codemirror_mode": {
    "name": "ipython",
    "version": 2
   },
   "file_extension": ".py",
   "mimetype": "text/x-python",
   "name": "python",
   "nbconvert_exporter": "python",
   "pygments_lexer": "ipython2",
   "version": "2.7.13"
  }
 },
 "nbformat": 4,
 "nbformat_minor": 2
}
