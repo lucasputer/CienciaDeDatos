{
 "cells": [
  {
   "cell_type": "code",
   "execution_count": 1,
   "metadata": {
    "collapsed": false
   },
   "outputs": [
    {
     "ename": "ImportError",
     "evalue": "No module named pandas",
     "output_type": "error",
     "traceback": [
      "\u001b[0;31m---------------------------------------------------------------------------\u001b[0m",
      "\u001b[0;31mImportError\u001b[0m                               Traceback (most recent call last)",
      "\u001b[0;32m<ipython-input-1-24e387b0941f>\u001b[0m in \u001b[0;36m<module>\u001b[0;34m()\u001b[0m\n\u001b[0;32m----> 1\u001b[0;31m \u001b[0;32mimport\u001b[0m \u001b[0mpandas\u001b[0m \u001b[0;32mas\u001b[0m \u001b[0mpd\u001b[0m\u001b[0;34m\u001b[0m\u001b[0m\n\u001b[0m\u001b[1;32m      2\u001b[0m \u001b[0;32mimport\u001b[0m \u001b[0mnumpy\u001b[0m \u001b[0;32mas\u001b[0m \u001b[0mnp\u001b[0m\u001b[0;34m\u001b[0m\u001b[0m\n\u001b[1;32m      3\u001b[0m \u001b[0;32mimport\u001b[0m \u001b[0mrandom\u001b[0m\u001b[0;34m\u001b[0m\u001b[0m\n\u001b[1;32m      4\u001b[0m \u001b[0;32mimport\u001b[0m \u001b[0mmatplotlib\u001b[0m\u001b[0;34m.\u001b[0m\u001b[0mpyplot\u001b[0m \u001b[0;32mas\u001b[0m \u001b[0mplt\u001b[0m\u001b[0;34m\u001b[0m\u001b[0m\n\u001b[1;32m      5\u001b[0m \u001b[0;32mimport\u001b[0m \u001b[0mseaborn\u001b[0m \u001b[0;32mas\u001b[0m \u001b[0msns\u001b[0m\u001b[0;34m;\u001b[0m \u001b[0msns\u001b[0m\u001b[0;34m.\u001b[0m\u001b[0mset_style\u001b[0m\u001b[0;34m(\u001b[0m\u001b[0;34m\"darkgrid\"\u001b[0m\u001b[0;34m)\u001b[0m\u001b[0;34m\u001b[0m\u001b[0m\n",
      "\u001b[0;31mImportError\u001b[0m: No module named pandas"
     ]
    }
   ],
   "source": [
    "import pandas as pd\n",
    "import numpy as np\n",
    "import random\n",
    "import matplotlib.pyplot as plt\n",
    "import seaborn as sns; sns.set_style(\"darkgrid\")\n",
    "from scipy import stats\n",
    "sns.plt = plt\n",
    "np.random.seed(1) # No estoy seguro si es necesario\n"
   ]
  },
  {
   "cell_type": "code",
   "execution_count": 2,
   "metadata": {
    "collapsed": false
   },
   "outputs": [
    {
     "name": "stdout",
     "output_type": "stream",
     "text": [
      "          Atleta  tiempo_sol  tiempo_nublado  tiempo_lluvia\n",
      "count  12.000000   12.000000       12.000000      12.000000\n",
      "mean    6.500000   13.908333       13.866667      33.158333\n",
      "std     3.605551    2.025949        1.789024      49.079332\n",
      "min     1.000000   11.000000       11.300000      18.200000\n",
      "25%     3.750000   12.150000       12.475000      18.775000\n",
      "50%     6.500000   14.400000       14.100000      19.050000\n",
      "75%     9.250000   15.350000       14.950000      19.250000\n",
      "max    12.000000   17.000000       16.700000     189.000000\n",
      "Atleta  tiempo_sol  tiempo_nublado  tiempo_lluvia\n",
      "     1        11.1            11.3           19.4\n",
      "     2        13.0            12.8           18.2\n",
      "     3        16.1            16.0           19.0\n",
      "     4        14.5            14.1           18.9\n",
      "     5        12.0            12.5           19.1\n",
      "     6        11.0            11.6           18.7\n",
      "     7        15.1            14.6          189.0\n",
      "     8        14.4            14.2           19.9\n",
      "     9        16.1            16.1           18.5\n",
      "    10        17.0            16.7           19.2\n",
      "    11        12.2            12.4           18.8\n",
      "    12        14.4            14.1           19.2\n"
     ]
    }
   ],
   "source": [
    "df = pd.read_csv('tiempos.txt', sep=' ')\n",
    "\n",
    "print(df.describe())\n",
    "\n",
    "print(df.to_string(index=False))\n"
   ]
  },
  {
   "cell_type": "code",
   "execution_count": 3,
   "metadata": {
    "collapsed": false,
    "scrolled": true
   },
   "outputs": [
    {
     "name": "stderr",
     "output_type": "stream",
     "text": [
      "/Library/Frameworks/Python.framework/Versions/3.5/lib/python3.5/site-packages/seaborn/timeseries.py:183: UserWarning: The tsplot function is deprecated and will be removed or replaced (in a substantially altered version) in a future release.\n",
      "  warnings.warn(msg, UserWarning)\n"
     ]
    },
    {
     "data": {
      "image/png": "[encoded data removed]",
      "text/plain": [
       "<matplotlib.figure.Figure at 0x10a011358>"
      ]
     },
     "metadata": {},
     "output_type": "display_data"
    },
    {
     "data": {
      "image/png": "[encoded data removed]",
      "text/plain": [
       "<matplotlib.figure.Figure at 0x10a0c9f98>"
      ]
     },
     "metadata": {},
     "output_type": "display_data"
    }
   ],
   "source": [
    "df = pd.read_csv('tiempos.txt', sep=' ')\n",
    "sns.tsplot(time=df['Atleta'], data=df['tiempo_sol'], interpolate=False, color=\"blue\")\n",
    "sns.tsplot(time=df['Atleta'], data=df['tiempo_nublado'], interpolate=False, color=\"red\")\n",
    "sns.tsplot(time=df['Atleta'], data=df['tiempo_lluvia'], interpolate=False, color=\"green\")\n",
    "plt.show()\n",
    "\n",
    "sns.tsplot(time=df['Atleta'], data=df['tiempo_sol'], interpolate=False, color=\"blue\")\n",
    "sns.tsplot(time=df['Atleta'], data=df['tiempo_nublado'], interpolate=False, color=\"red\")\n",
    "sns.tsplot(time=df['Atleta'], data=df['tiempo_lluvia'], interpolate=False, color=\"green\")\n",
    "\n",
    "LLUVIA_LIMIT = 30\n",
    "sns.plt.ylim((0,LLUVIA_LIMIT))\n",
    "sns.plt.show()\n"
   ]
  },
  {
   "cell_type": "code",
   "execution_count": 60,
   "metadata": {
    "collapsed": false
   },
   "outputs": [
    {
     "ename": "TypeError",
     "evalue": "unsupported operand type(s) for /: 'filter' and 'int'",
     "output_type": "error",
     "traceback": [
      "\u001b[0;31m---------------------------------------------------------------------------\u001b[0m",
      "\u001b[0;31mTypeError\u001b[0m                                 Traceback (most recent call last)",
      "\u001b[0;32m<ipython-input-60-e65e44668892>\u001b[0m in \u001b[0;36m<module>\u001b[0;34m()\u001b[0m\n\u001b[1;32m      9\u001b[0m \u001b[0mdatos_lluvia\u001b[0m \u001b[0;34m=\u001b[0m \u001b[0mnp\u001b[0m\u001b[0;34m.\u001b[0m\u001b[0marray\u001b[0m\u001b[0;34m(\u001b[0m\u001b[0mfilter\u001b[0m\u001b[0;34m(\u001b[0m\u001b[0;32mlambda\u001b[0m \u001b[0mx\u001b[0m \u001b[0;34m:\u001b[0m \u001b[0mx\u001b[0m \u001b[0;34m<\u001b[0m \u001b[0mLLUVIA_LIMIT\u001b[0m\u001b[0;34m,\u001b[0m \u001b[0mdf\u001b[0m\u001b[0;34m.\u001b[0m\u001b[0mvalues\u001b[0m\u001b[0;34m[\u001b[0m\u001b[0;34m:\u001b[0m\u001b[0;34m,\u001b[0m\u001b[0;36m3\u001b[0m\u001b[0;34m]\u001b[0m\u001b[0;34m)\u001b[0m\u001b[0;34m)\u001b[0m\u001b[0;34m\u001b[0m\u001b[0m\n\u001b[1;32m     10\u001b[0m \u001b[0;34m\u001b[0m\u001b[0m\n\u001b[0;32m---> 11\u001b[0;31m \u001b[0mdelta_0\u001b[0m \u001b[0;34m=\u001b[0m \u001b[0mnp\u001b[0m\u001b[0;34m.\u001b[0m\u001b[0mmedian\u001b[0m\u001b[0;34m(\u001b[0m\u001b[0mdatos_lluvia\u001b[0m\u001b[0;34m)\u001b[0m \u001b[0;34m-\u001b[0m \u001b[0mnp\u001b[0m\u001b[0;34m.\u001b[0m\u001b[0mmedian\u001b[0m\u001b[0;34m(\u001b[0m\u001b[0mdatos_sol\u001b[0m\u001b[0;34m)\u001b[0m\u001b[0;34m\u001b[0m\u001b[0m\n\u001b[0m\u001b[1;32m     12\u001b[0m \u001b[0mprint\u001b[0m\u001b[0;34m(\u001b[0m\u001b[0mdelta_0\u001b[0m\u001b[0;34m)\u001b[0m\u001b[0;34m\u001b[0m\u001b[0m\n\u001b[1;32m     13\u001b[0m \u001b[0;34m\u001b[0m\u001b[0m\n",
      "\u001b[0;32m/Library/Frameworks/Python.framework/Versions/3.5/lib/python3.5/site-packages/numpy/lib/function_base.py\u001b[0m in \u001b[0;36mmedian\u001b[0;34m(a, axis, out, overwrite_input, keepdims)\u001b[0m\n\u001b[1;32m   4095\u001b[0m     \"\"\"\n\u001b[1;32m   4096\u001b[0m     r, k = _ureduce(a, func=_median, axis=axis, out=out,\n\u001b[0;32m-> 4097\u001b[0;31m                     overwrite_input=overwrite_input)\n\u001b[0m\u001b[1;32m   4098\u001b[0m     \u001b[0;32mif\u001b[0m \u001b[0mkeepdims\u001b[0m\u001b[0;34m:\u001b[0m\u001b[0;34m\u001b[0m\u001b[0m\n\u001b[1;32m   4099\u001b[0m         \u001b[0;32mreturn\u001b[0m \u001b[0mr\u001b[0m\u001b[0;34m.\u001b[0m\u001b[0mreshape\u001b[0m\u001b[0;34m(\u001b[0m\u001b[0mk\u001b[0m\u001b[0;34m)\u001b[0m\u001b[0;34m\u001b[0m\u001b[0m\n",
      "\u001b[0;32m/Library/Frameworks/Python.framework/Versions/3.5/lib/python3.5/site-packages/numpy/lib/function_base.py\u001b[0m in \u001b[0;36m_ureduce\u001b[0;34m(a, func, **kwargs)\u001b[0m\n\u001b[1;32m   4009\u001b[0m         \u001b[0mkeepdim\u001b[0m \u001b[0;34m=\u001b[0m \u001b[0;34m[\u001b[0m\u001b[0;36m1\u001b[0m\u001b[0;34m]\u001b[0m \u001b[0;34m*\u001b[0m \u001b[0ma\u001b[0m\u001b[0;34m.\u001b[0m\u001b[0mndim\u001b[0m\u001b[0;34m\u001b[0m\u001b[0m\n\u001b[1;32m   4010\u001b[0m \u001b[0;34m\u001b[0m\u001b[0m\n\u001b[0;32m-> 4011\u001b[0;31m     \u001b[0mr\u001b[0m \u001b[0;34m=\u001b[0m \u001b[0mfunc\u001b[0m\u001b[0;34m(\u001b[0m\u001b[0ma\u001b[0m\u001b[0;34m,\u001b[0m \u001b[0;34m**\u001b[0m\u001b[0mkwargs\u001b[0m\u001b[0;34m)\u001b[0m\u001b[0;34m\u001b[0m\u001b[0m\n\u001b[0m\u001b[1;32m   4012\u001b[0m     \u001b[0;32mreturn\u001b[0m \u001b[0mr\u001b[0m\u001b[0;34m,\u001b[0m \u001b[0mkeepdim\u001b[0m\u001b[0;34m\u001b[0m\u001b[0m\n\u001b[1;32m   4013\u001b[0m \u001b[0;34m\u001b[0m\u001b[0m\n",
      "\u001b[0;32m/Library/Frameworks/Python.framework/Versions/3.5/lib/python3.5/site-packages/numpy/lib/function_base.py\u001b[0m in \u001b[0;36m_median\u001b[0;34m(a, axis, out, overwrite_input)\u001b[0m\n\u001b[1;32m   4153\u001b[0m         \u001b[0;31m# Use mean in odd and even case to coerce data type\u001b[0m\u001b[0;34m\u001b[0m\u001b[0;34m\u001b[0m\u001b[0m\n\u001b[1;32m   4154\u001b[0m         \u001b[0;31m# and check, use out array.\u001b[0m\u001b[0;34m\u001b[0m\u001b[0;34m\u001b[0m\u001b[0m\n\u001b[0;32m-> 4155\u001b[0;31m         \u001b[0;32mreturn\u001b[0m \u001b[0mmean\u001b[0m\u001b[0;34m(\u001b[0m\u001b[0mpart\u001b[0m\u001b[0;34m[\u001b[0m\u001b[0mindexer\u001b[0m\u001b[0;34m]\u001b[0m\u001b[0;34m,\u001b[0m \u001b[0maxis\u001b[0m\u001b[0;34m=\u001b[0m\u001b[0maxis\u001b[0m\u001b[0;34m,\u001b[0m \u001b[0mout\u001b[0m\u001b[0;34m=\u001b[0m\u001b[0mout\u001b[0m\u001b[0;34m)\u001b[0m\u001b[0;34m\u001b[0m\u001b[0m\n\u001b[0m\u001b[1;32m   4156\u001b[0m \u001b[0;34m\u001b[0m\u001b[0m\n\u001b[1;32m   4157\u001b[0m \u001b[0;34m\u001b[0m\u001b[0m\n",
      "\u001b[0;32m/Library/Frameworks/Python.framework/Versions/3.5/lib/python3.5/site-packages/numpy/core/fromnumeric.py\u001b[0m in \u001b[0;36mmean\u001b[0;34m(a, axis, dtype, out, keepdims)\u001b[0m\n\u001b[1;32m   2907\u001b[0m \u001b[0;34m\u001b[0m\u001b[0m\n\u001b[1;32m   2908\u001b[0m     return _methods._mean(a, axis=axis, dtype=dtype,\n\u001b[0;32m-> 2909\u001b[0;31m                           out=out, **kwargs)\n\u001b[0m\u001b[1;32m   2910\u001b[0m \u001b[0;34m\u001b[0m\u001b[0m\n\u001b[1;32m   2911\u001b[0m \u001b[0;34m\u001b[0m\u001b[0m\n",
      "\u001b[0;32m/Library/Frameworks/Python.framework/Versions/3.5/lib/python3.5/site-packages/numpy/core/_methods.py\u001b[0m in \u001b[0;36m_mean\u001b[0;34m(a, axis, dtype, out, keepdims)\u001b[0m\n\u001b[1;32m     80\u001b[0m             \u001b[0mret\u001b[0m \u001b[0;34m=\u001b[0m \u001b[0mret\u001b[0m\u001b[0;34m.\u001b[0m\u001b[0mdtype\u001b[0m\u001b[0;34m.\u001b[0m\u001b[0mtype\u001b[0m\u001b[0;34m(\u001b[0m\u001b[0mret\u001b[0m \u001b[0;34m/\u001b[0m \u001b[0mrcount\u001b[0m\u001b[0;34m)\u001b[0m\u001b[0;34m\u001b[0m\u001b[0m\n\u001b[1;32m     81\u001b[0m     \u001b[0;32melse\u001b[0m\u001b[0;34m:\u001b[0m\u001b[0;34m\u001b[0m\u001b[0m\n\u001b[0;32m---> 82\u001b[0;31m         \u001b[0mret\u001b[0m \u001b[0;34m=\u001b[0m \u001b[0mret\u001b[0m \u001b[0;34m/\u001b[0m \u001b[0mrcount\u001b[0m\u001b[0;34m\u001b[0m\u001b[0m\n\u001b[0m\u001b[1;32m     83\u001b[0m \u001b[0;34m\u001b[0m\u001b[0m\n\u001b[1;32m     84\u001b[0m     \u001b[0;32mreturn\u001b[0m \u001b[0mret\u001b[0m\u001b[0;34m\u001b[0m\u001b[0m\n",
      "\u001b[0;31mTypeError\u001b[0m: unsupported operand type(s) for /: 'filter' and 'int'"
     ]
    }
   ],
   "source": [
    "\n",
    "# Respuesta a : Los atletas son m´as lentos en d´ıas de lluvia que en d´ıas soleados.\n",
    "\n",
    "# Vamos a ver si los atletas son mas lentos en dias de lluvia que en dias soleados.\n",
    "#para eso vamos a hacer un test de permutacion\n",
    "\n",
    "# Creo numpy array con datos soleados y datos de lluvia sin outlier en tuplas indicando su grupo\n",
    "datos_sol = df.values[:,1]\n",
    "datos_lluvia = np.array(filter(lambda x : x < LLUVIA_LIMIT, df.values[:,3]))\n",
    "\n",
    "delta_0 = np.median(datos_lluvia) - np.median(datos_sol)\n",
    "print(delta_0)\n",
    "\n",
    "datos_bool =  np.concatenate([np.zeros(datos_lluvia.size, dtype=bool),np.ones(datos_sol.size, dtype=bool)])\n",
    "datos_val = np.concatenate([datos_sol,datos_lluvia])\n",
    "\n",
    "PERM_COUNT = 100000\n",
    "\n",
    "def simulate():\n",
    "    perm = np.random.permutation(datos_bool)\n",
    "    ll_sum = 0\n",
    "    ll_count = 0\n",
    "    s_sum = 0\n",
    "    s_count = 0\n",
    "    for is_soleado, val in zip(perm, datos_val):\n",
    "        if is_soleado:\n",
    "            s_count += 1\n",
    "            s_sum += val\n",
    "        else:\n",
    "            ll_count += 1\n",
    "            ll_sum += val\n",
    "    return (ll_sum/ll_count) - (s_sum/s_count)\n",
    "        \n",
    "deltas = np.array([simulate() for i in range(PERM_COUNT)])\n",
    "reject_delta_count = len(filter(lambda x: x > delta_0, deltas))\n",
    "print(reject_delta_count)\n",
    "print(float(reject_delta_count)/PERM_COUNT)\n",
    "\n",
    "\n",
    "sns.distplot(deltas, kde=False, rug=False)\n",
    "sns.plt.show()\n",
    "\n",
    "\n",
    "\n",
    "\n",
    "\n"
   ]
  },
  {
   "cell_type": "code",
   "execution_count": 68,
   "metadata": {
    "collapsed": false
   },
   "outputs": [
    {
     "data": {
      "image/png": "[encoded data removed]",
      "text/plain": [
       "<matplotlib.figure.Figure at 0x10b7c7e10>"
      ]
     },
     "metadata": {},
     "output_type": "display_data"
    },
    {
     "name": "stdout",
     "output_type": "stream",
     "text": [
      "(0.99224199979513195, 1.8469595486418115e-09)\n"
     ]
    },
    {
     "data": {
      "image/png": "[encoded data removed]",
      "text/plain": [
       "<matplotlib.figure.Figure at 0x10a75e6a0>"
      ]
     },
     "metadata": {},
     "output_type": "display_data"
    },
    {
     "name": "stdout",
     "output_type": "stream",
     "text": [
      "(0.064963553876733887, 0.84949358072453474)\n",
      "RanksumsResult(statistic=-3.9727331518303837, pvalue=7.1052632886001551e-05)\n"
     ]
    }
   ],
   "source": [
    "# Respuesta a : Si sirve de algo entrenar en lluvia\n",
    "\n",
    "# Observacion: interpretamos que \"sirve\" entrenar con lluvia si los atletas pueden \"rendir\" en la lluvia\n",
    "# de manera acorde a su capacidad en otras condiciones.\n",
    "\n",
    "# Sacamos el outlier de tiempo_lluvia\n",
    "df2 = df[df['tiempo_lluvia'] < LLUVIA_LIMIT]\n",
    "\n",
    "# Ver 1: los atletas rinden acordemente bajo sol a cuando hay cielo nublado.\n",
    "# Esto es importante porque podria ser que los atletas rindan muy bien debido al sol,\n",
    "# y que lo raro sea como rinden en buenas condiciones climaticas. Pero si rinden parecido bajo sol y nublado\n",
    "# pero de manera distinta bajo lluvia, el problema seria la lluvia.\n",
    "\n",
    "# Ver 1.1: cuando esta nublado, los datos varian de forma similar a cuando hay sol\n",
    "\n",
    "sns.regplot(x=df2['tiempo_sol'], y=df2['tiempo_nublado'])\n",
    "sns.plt.show()\n",
    "\n",
    "# Ver 1.2: hay una correlacion lineal alta entre los datos de cielo nublado y soleado\n",
    "\n",
    "print(stats.pearsonr(df2['tiempo_sol'],df2['tiempo_nublado']))\n",
    "\n",
    "# Ver 2: los atletas no rinden acordemente bajo sol a cuando llueve\n",
    "\n",
    "# Ver 2.1: predecir el rendimiento de los atletas segun los datos de los dias que llueve\n",
    "# produce malos estimadores para los dias soleados\n",
    "\n",
    "sns.regplot(x=df2['tiempo_sol'], y=df2['tiempo_lluvia'])\n",
    "sns.plt.show()\n",
    "\n",
    "# Ver 2.2: la correlacion lineal es muy baja si comparamos los dias que llueve a los dias soleados\n",
    "\n",
    "print(stats.pearsonr(df2['tiempo_sol'],df2['tiempo_lluvia']))\n",
    "\n",
    "# Ver 2.3: segun el test 'Wilcoxon rank-sum', es poco probable que las muestras vengan de la misma distribucion\n",
    "\n",
    "print(stats.ranksums(df2['tiempo_sol'],df2['tiempo_lluvia']))\n",
    "\n",
    "# Explicacion: este test toma como Hipotesis nula que las dos muestras vienen de una misma distribucion.\n",
    "# Como podemos ver, el p-valor obtenido es increiblemente bajo. Lo que quiere decir que es altamente\n",
    "# probable que la hipotesis nula sea falsa.\n",
    "\n",
    "\n",
    "\n",
    "# Conclusion: cuando llueve, los atletas no parecen rendir acordemente a sus capacidades en otras condiciones. Por lo tanto,\n",
    "# bajo nuestra interpretacion y las estimaciones obtenidas, entrenar bajo lluvia no sirve.\n",
    "\n"
   ]
  },
  {
   "cell_type": "code",
   "execution_count": 62,
   "metadata": {
    "collapsed": false
   },
   "outputs": [
    {
     "name": "stdout",
     "output_type": "stream",
     "text": [
      "Ttest_relResult(statistic=0.41213824986058739, pvalue=0.68815561156045579)\n",
      "WilcoxonResult(statistic=28.5, pvalue=0.68820650307382913)\n"
     ]
    }
   ],
   "source": [
    "# RTA a : El cielo nublado no influye en los tiempos de los atletas.\n",
    "\n",
    "datos_sol = df.values[:,1]\n",
    "datos_nublado = df.values[:,2]\n",
    "\n",
    "# Si el tiempo nublado influyese entonces tendrian distinta media\n",
    "\n",
    "# Hipotesis : No tienen la misma media\n",
    "# Hipotesis nula: Tienen la misma media\n",
    "# Tomamos como estadistico a 0.05\n",
    "\n",
    "print(stats.ttest_rel(datos_sol,datos_nublado))\n",
    "\n",
    "# Con el p-valor arrojado, no podemos rechazar la hipotesis nula.\n",
    "# No tenemos suficiente informacion para saber si tienen o no la misma media.\n",
    "# Si tuvieran distinta media, segun el test, el p-valor deberia dar menor a 0.05\n",
    "\n",
    "print(stats.wilcoxon(datos_sol, datos_nublado, zero_method='wilcox', correction=False))\n",
    "\n"
   ]
  },
  {
   "cell_type": "code",
   "execution_count": null,
   "metadata": {
    "collapsed": true
   },
   "outputs": [],
   "source": [
    "# Rta a: La velocidad en dias de lluvia es independiente del atleta\n",
    "\n",
    "a = np.ones(11)\n",
    "a[0] = 0.999\n",
    "print(stats.pearsonr(df2['tiempo_lluvia'],df2['Atleta']))\n",
    "\n",
    "sns.regplot(x=df2['Atleta'], y=df2['tiempo_lluvia'])\n",
    "sns.plt.show()\n",
    "\n"
   ]
  },
  {
   "cell_type": "code",
   "execution_count": null,
   "metadata": {
    "collapsed": true
   },
   "outputs": [],
   "source": [
    "# El clima influye en la velocidad de los atletas\n",
    "#Claramente si,  no sabemos como hacerlo"
   ]
  }
 ],
 "metadata": {
  "kernelspec": {
   "display_name": "Python 2",
   "language": "python",
   "name": "python2"
  },
  "language_info": {
   "codemirror_mode": {
    "name": "ipython",
    "version": 2
   },
   "file_extension": ".py",
   "mimetype": "text/x-python",
   "name": "python",
   "nbconvert_exporter": "python",
   "pygments_lexer": "ipython2",
   "version": "2.7.13"
  }
 },
 "nbformat": 4,
 "nbformat_minor": 2
}
