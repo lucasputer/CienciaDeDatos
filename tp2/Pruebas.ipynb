{
 "cells": [
  {
   "cell_type": "code",
   "execution_count": 2,
   "metadata": {
    "collapsed": true
   },
   "outputs": [],
   "source": [
    "import scipy.io\n",
    "import pandas as pd\n",
    "import numpy as np\n",
    "import matplotlib.pyplot as plt\n",
    "import seaborn as sns; sns.set_style(\"darkgrid\")\n",
    "import scipy\n",
    "from scipy import stats\n",
    "from scipy import signal\n",
    "sns.plt = plt\n",
    "np.random.seed(1) # No estoy seguro si es necesario\n",
    "\n",
    "mail = \"\"\"\n",
    "Hola a todos\n",
    "\n",
    "Varios me preguntaron del formato de los archivos .mat\n",
    "\n",
    "Cada .mat corresponde a un paciente y contiene una matriz tridimensional: trials/epochs x electrodos x muestras en Epoch\n",
    "\n",
    "Por ejemplo, El archivo P01 tiene 864 epochs (primer dimensión). Eso quiere decir que de los 1200 ensayos que se hicieron con ese paciente solo 864 sobrevivieron al filtrado y preprocesamiento.\n",
    "\n",
    "Espero que esto aclare un poco...\n",
    "\n",
    "\n",
    "\"\"\"\n"
   ]
  },
  {
   "cell_type": "code",
   "execution_count": 3,
   "metadata": {},
   "outputs": [
    {
     "name": "stdout",
     "output_type": "stream",
     "text": [
      "9.5019053032e-06\n",
      "(894, 256, 201)\n"
     ]
    }
   ],
   "source": [
    "mat = scipy.io.loadmat('datos/P01.mat')\n",
    "mm = mat['data']\n",
    "\n",
    "# Epoch = sonidito\n",
    "# Electrodos = 256\n",
    "# Tiempos = 201\n",
    "# Epoch = 894\n",
    "# Epochs  x Electrodos  x Tiempo\n",
    "print mm[0][0][0]\n",
    "print mm.shape\n"
   ]
  },
  {
   "cell_type": "code",
   "execution_count": 4,
   "metadata": {
    "collapsed": true
   },
   "outputs": [],
   "source": [
    "#\n",
    "# a) Computar uno de los posibles análisis espectrales.\n",
    "\n",
    "# a.1) Calcular la media entre los electrodos 8, 44, 80, 131 y 185 (el primer electrodo es el 0) \n",
    "# y realizar una figura que muestre las frecuencias en el eje Y, los epochs en el eje X\n",
    "# , y la potencia usando una escala de color como en el ejemplo:\n"
   ]
  },
  {
   "cell_type": "code",
   "execution_count": 5,
   "metadata": {
    "collapsed": true
   },
   "outputs": [],
   "source": [
    "electrodo8 = mm[:, 7, :]\n",
    "electrodo44 = mm[:, 43, :]\n",
    "electrodo80 = mm[:, 79, :]\n",
    "electrodo131 = mm[:, 130, :]\n",
    "electrodo185 = mm[:, 184, :]\n",
    "\n",
    "electrodos = [electrodo8, electrodo44, electrodo80, electrodo131, electrodo185]\n"
   ]
  },
  {
   "cell_type": "code",
   "execution_count": 6,
   "metadata": {
    "collapsed": true
   },
   "outputs": [],
   "source": [
    "def averageTimeSeries(tsList):\n",
    "    for i in range(len(tsList[0])):\n",
    "        yield np.mean(map(lambda ts: ts[i], tsList))\n",
    "\n",
    "def averageInEpoch(epoch_idx):\n",
    "    return averageTimeSeries(map(lambda electrodo: electrodo[epoch_idx], electrodos))\n",
    "\n",
    "\n",
    "def senal_suavizada(ts):\n",
    "    return ts\n",
    "    return pd.ewma(pd.Series(ts), com=5.0)\n"
   ]
  },
  {
   "cell_type": "code",
   "execution_count": 7,
   "metadata": {},
   "outputs": [
    {
     "name": "stderr",
     "output_type": "stream",
     "text": [
      "/home/brian/Documents/facultad/cienciadatos/venv/local/lib/python2.7/site-packages/scipy/signal/spectral.py:1633: UserWarning: nperseg = 256 is greater than input length  = 201, using nperseg = 201\n",
      "  .format(nperseg, input_length))\n"
     ]
    },
    {
     "name": "stdout",
     "output_type": "stream",
     "text": [
      "     index             0             1             2             3  \\\n",
      "0        0  2.203207e-12  5.521255e-12  3.325495e-12  1.694489e-12   \n",
      "1        0  2.457573e-13  1.051716e-12  3.047509e-12  1.783282e-12   \n",
      "2        0  5.591093e-13  2.805725e-12  9.683758e-13  4.742076e-13   \n",
      "3        0  2.496316e-13  1.728102e-12  5.787040e-13  1.412563e-13   \n",
      "4        0  1.456469e-12  7.779524e-12  4.328727e-12  9.029027e-13   \n",
      "5        0  3.804657e-13  2.109862e-12  2.658752e-13  6.690450e-13   \n",
      "6        0  1.590263e-12  8.384072e-12  4.296923e-12  9.712062e-13   \n",
      "7        0  1.267426e-14  1.740605e-12  1.328269e-12  1.731006e-12   \n",
      "8        0  1.465441e-12  8.379248e-12  4.939387e-12  4.486714e-13   \n",
      "9        0  1.022471e-12  2.028634e-12  1.621861e-12  1.809199e-12   \n",
      "10       0  6.033670e-13  2.539849e-12  3.941140e-13  1.639532e-13   \n",
      "11       0  3.103675e-13  2.194586e-12  4.383132e-13  8.981081e-15   \n",
      "12       0  3.528304e-13  5.439483e-13  4.697625e-13  8.685813e-13   \n",
      "13       0  7.511063e-13  1.813966e-12  5.765292e-13  1.417316e-13   \n",
      "14       0  1.549477e-14  5.577773e-13  4.428128e-14  5.804235e-13   \n",
      "15       0  1.449566e-13  2.348896e-12  1.796507e-12  3.068299e-13   \n",
      "16       0  5.899992e-14  3.764413e-13  9.565793e-13  6.186345e-13   \n",
      "17       0  3.743208e-13  1.696430e-13  5.919335e-13  3.920056e-13   \n",
      "18       0  1.442523e-16  6.281206e-13  1.175724e-13  6.507006e-13   \n",
      "19       0  7.024565e-13  2.298567e-12  4.476143e-13  4.463071e-13   \n",
      "20       0  1.751077e-12  2.313636e-11  4.119504e-12  1.269348e-13   \n",
      "21       0  9.879538e-14  6.266901e-13  1.531522e-13  1.917088e-13   \n",
      "22       0  4.276969e-13  3.812221e-12  2.722915e-12  1.625690e-12   \n",
      "23       0  2.488041e-13  2.579831e-12  3.578191e-12  5.770834e-13   \n",
      "24       0  4.246683e-13  2.586965e-13  7.678334e-13  1.316294e-12   \n",
      "25       0  3.480846e-13  1.785666e-12  3.692016e-13  1.272858e-15   \n",
      "26       0  2.706818e-14  4.437603e-13  4.878173e-13  4.751007e-13   \n",
      "27       0  3.602957e-13  3.467125e-13  5.355887e-13  1.387581e-12   \n",
      "28       0  1.320610e-12  6.143541e-12  2.903411e-12  7.899468e-13   \n",
      "29       0  1.828401e-12  2.077314e-12  1.124819e-12  1.069545e-12   \n",
      "..     ...           ...           ...           ...           ...   \n",
      "864      0  9.263119e-13  5.888997e-12  5.999539e-13  3.741268e-12   \n",
      "865      0  3.669840e-13  7.892787e-12  8.343018e-12  7.198496e-12   \n",
      "866      0  7.428999e-15  3.067269e-12  6.127547e-12  1.279982e-12   \n",
      "867      0  9.376862e-13  5.473772e-14  7.984149e-12  3.905661e-12   \n",
      "868      0  2.161339e-13  3.417360e-13  2.059633e-12  3.331077e-12   \n",
      "869      0  3.759231e-13  6.445188e-12  1.099247e-12  9.358884e-13   \n",
      "870      0  9.282208e-13  2.266538e-12  1.444436e-12  8.679591e-13   \n",
      "871      0  3.626361e-13  1.479157e-12  1.108382e-12  3.762381e-13   \n",
      "872      0  1.936117e-12  6.587849e-12  3.056140e-12  9.212436e-13   \n",
      "873      0  4.037396e-13  2.625822e-12  1.408461e-13  4.263583e-13   \n",
      "874      0  2.626890e-12  7.031369e-12  7.675856e-13  9.952581e-13   \n",
      "875      0  6.894934e-13  1.593017e-12  1.548776e-12  1.370993e-12   \n",
      "876      0  2.323576e-13  1.489102e-12  9.872158e-13  2.694319e-13   \n",
      "877      0  5.149663e-13  2.972420e-12  1.205994e-12  1.379387e-12   \n",
      "878      0  5.636045e-13  6.123239e-12  4.322598e-12  7.766829e-13   \n",
      "879      0  5.839059e-14  7.260243e-13  2.896478e-13  1.378460e-13   \n",
      "880      0  1.574867e-12  5.850140e-12  1.045585e-12  3.867308e-13   \n",
      "881      0  1.550491e-12  4.586714e-12  9.586310e-12  6.683034e-13   \n",
      "882      0  5.902128e-13  2.924589e-12  4.010557e-13  6.378877e-12   \n",
      "883      0  1.067353e-11  2.355104e-11  5.512752e-13  5.856935e-12   \n",
      "884      0  5.763743e-14  4.127475e-12  3.975289e-13  4.901777e-13   \n",
      "885      0  5.958516e-13  2.795355e-12  4.194268e-12  3.440701e-12   \n",
      "886      0  2.415570e-13  3.303882e-12  9.375375e-13  3.165591e-12   \n",
      "887      0  1.400601e-14  1.386711e-12  7.329464e-13  1.174701e-12   \n",
      "888      0  6.278328e-14  5.234464e-13  1.068940e-13  6.179611e-13   \n",
      "889      0  3.015942e-11  8.596571e-11  3.025817e-11  7.386810e-12   \n",
      "890      0  5.673848e-12  2.159370e-11  3.031465e-11  3.371435e-11   \n",
      "891      0  1.787963e-11  2.160649e-11  4.036380e-12  6.003213e-12   \n",
      "892      0  3.064524e-15  6.659766e-14  5.571505e-14  8.429572e-14   \n",
      "893      0  8.726367e-14  2.044427e-11  1.029951e-11  2.025618e-13   \n",
      "\n",
      "                4             5             6             7             8  \\\n",
      "0    5.945851e-13  5.799921e-13  6.896596e-14  1.528998e-14  1.363522e-13   \n",
      "1    1.205312e-13  5.599229e-13  8.188079e-13  3.337486e-13  5.585292e-15   \n",
      "2    2.703082e-14  3.953150e-15  3.656498e-14  3.689291e-14  5.170412e-15   \n",
      "3    9.509247e-14  2.344540e-13  1.541472e-13  3.789053e-16  3.528621e-15   \n",
      "4    2.629974e-13  2.322046e-13  3.030409e-13  2.437795e-13  2.484415e-13   \n",
      "5    1.648129e-13  7.619984e-14  1.813845e-13  2.020315e-13  1.072053e-14   \n",
      "6    9.095645e-13  1.013755e-12  3.994915e-13  1.880093e-13  3.990844e-13   \n",
      "7    7.142617e-13  1.884417e-14  2.175550e-14  5.232520e-14  2.551039e-13   \n",
      "8    4.505057e-14  8.236218e-13  5.436281e-13  6.702741e-14  4.237869e-13   \n",
      "9    7.562217e-13  2.640870e-14  1.470315e-13  9.091792e-14  4.377554e-15   \n",
      "10   4.460645e-14  4.574472e-13  2.183920e-13  2.440719e-13  1.667694e-13   \n",
      "11   2.747085e-13  5.990097e-13  3.318013e-13  2.824888e-13  7.474347e-14   \n",
      "12   5.561991e-13  6.432807e-13  1.959854e-13  3.885313e-13  2.401165e-13   \n",
      "13   4.368158e-13  3.924620e-13  5.350911e-13  8.702016e-13  5.744715e-14   \n",
      "14   6.691403e-13  9.018991e-13  1.328409e-12  7.248521e-13  7.379217e-14   \n",
      "15   1.024875e-13  8.727275e-14  2.634299e-13  4.463533e-13  1.545595e-13   \n",
      "16   5.681656e-13  6.049669e-13  4.897379e-14  2.865392e-14  2.084831e-15   \n",
      "17   3.635006e-13  4.618460e-13  1.652302e-13  1.970179e-14  5.999198e-14   \n",
      "18   4.891708e-14  5.434947e-15  2.111442e-13  4.764903e-13  1.723591e-13   \n",
      "19   1.704126e-13  2.416797e-13  3.028734e-14  4.131373e-14  6.047947e-14   \n",
      "20   7.934332e-13  1.504534e-12  6.018122e-13  4.182072e-14  9.759229e-14   \n",
      "21   2.208764e-14  2.819915e-15  5.939356e-14  2.071702e-14  2.390114e-14   \n",
      "22   5.224519e-13  2.632322e-13  3.089900e-13  7.318219e-14  7.628857e-14   \n",
      "23   1.019973e-13  9.222018e-14  4.493931e-13  6.920749e-13  4.976067e-13   \n",
      "24   1.826848e-13  9.533215e-14  2.905832e-13  3.752342e-13  2.107617e-13   \n",
      "25   3.444423e-14  1.401903e-13  1.623102e-13  6.625544e-14  1.471148e-13   \n",
      "26   8.116559e-14  2.288042e-14  2.387720e-13  9.324548e-14  4.323406e-15   \n",
      "27   6.109257e-13  4.045709e-13  2.800724e-13  1.865731e-13  2.901613e-13   \n",
      "28   6.842767e-13  4.109976e-13  6.059611e-13  2.802360e-13  3.854023e-14   \n",
      "29   8.515862e-14  3.789464e-13  8.281960e-13  5.745666e-13  1.060196e-12   \n",
      "..            ...           ...           ...           ...           ...   \n",
      "864  1.010665e-12  5.288207e-13  3.881055e-13  2.995759e-14  6.642820e-14   \n",
      "865  1.201459e-12  2.211656e-13  1.129732e-13  4.803821e-14  5.248678e-14   \n",
      "866  2.351838e-13  4.013086e-13  3.074149e-13  5.537361e-14  1.020274e-13   \n",
      "867  2.854345e-13  7.713531e-13  3.676061e-13  2.391120e-13  7.865440e-14   \n",
      "868  1.505089e-12  3.329381e-13  1.148969e-13  7.225775e-14  1.706515e-14   \n",
      "869  2.072960e-12  1.811300e-13  2.789925e-13  5.707946e-13  8.118041e-13   \n",
      "870  1.704571e-12  1.476733e-12  2.951476e-14  4.357508e-14  1.897046e-13   \n",
      "871  7.522574e-14  2.373738e-13  1.992170e-13  4.988135e-14  5.581652e-13   \n",
      "872  7.704748e-13  2.770260e-13  8.971814e-14  1.890348e-14  8.255858e-15   \n",
      "873  7.176240e-13  5.571611e-13  1.264626e-13  2.188733e-14  1.499476e-14   \n",
      "874  8.916938e-14  2.450483e-13  3.291813e-14  3.626703e-13  2.546487e-13   \n",
      "875  4.124559e-13  1.768263e-13  4.141998e-13  1.486309e-13  1.238708e-13   \n",
      "876  1.676152e-13  5.231673e-13  3.112651e-13  9.552886e-15  4.868131e-14   \n",
      "877  1.164609e-12  4.778845e-13  9.596927e-14  1.024779e-13  3.791248e-14   \n",
      "878  3.119414e-13  1.260530e-14  1.132766e-13  4.351907e-14  2.948963e-14   \n",
      "879  9.325160e-13  1.448574e-12  9.642731e-13  4.538341e-13  1.729578e-13   \n",
      "880  1.507187e-13  4.030295e-13  1.179746e-13  1.483129e-13  1.442346e-13   \n",
      "881  5.904486e-12  2.706312e-12  3.355875e-12  6.174387e-13  2.093716e-13   \n",
      "882  3.415799e-12  1.809800e-12  2.014948e-13  4.574842e-14  1.716625e-13   \n",
      "883  2.691544e-12  6.336885e-13  3.193244e-13  1.458013e-13  4.076522e-13   \n",
      "884  8.372044e-13  9.398990e-13  2.556346e-13  1.682986e-13  4.611857e-14   \n",
      "885  2.384709e-12  2.087818e-12  4.731521e-13  6.385984e-14  9.278133e-14   \n",
      "886  3.001127e-12  1.419207e-12  8.147176e-14  4.944548e-14  3.432931e-14   \n",
      "887  1.918304e-12  1.322186e-12  7.659951e-14  4.898034e-14  4.543409e-14   \n",
      "888  1.725305e-12  8.260394e-13  5.689061e-14  1.193519e-13  4.535544e-14   \n",
      "889  6.576577e-12  7.438726e-12  1.946381e-12  2.056359e-13  5.137083e-13   \n",
      "890  5.815521e-12  9.613026e-13  8.242524e-13  3.342507e-13  6.774703e-14   \n",
      "891  2.979668e-12  6.677024e-12  4.543668e-12  8.840471e-13  1.935025e-13   \n",
      "892  5.242054e-13  1.108837e-12  1.441653e-13  2.603311e-14  7.181156e-14   \n",
      "893  2.740036e-13  2.368907e-13  5.308461e-13  2.699874e-13  9.726213e-14   \n",
      "\n",
      "         ...                 27            28            29            30  \\\n",
      "0        ...       2.866891e-13  5.337988e-14  1.017011e-13  4.655568e-13   \n",
      "1        ...       9.569517e-14  1.772390e-13  1.684917e-13  3.394106e-14   \n",
      "2        ...       1.204060e-14  5.957785e-15  1.299265e-15  5.505866e-14   \n",
      "3        ...       1.444015e-13  4.250115e-14  1.352950e-14  7.328820e-14   \n",
      "4        ...       1.085627e-13  1.227626e-13  8.360668e-14  4.379581e-14   \n",
      "5        ...       6.371405e-14  8.058784e-14  2.811153e-14  1.408896e-13   \n",
      "6        ...       2.445097e-14  9.165465e-16  1.311074e-15  1.176533e-15   \n",
      "7        ...       1.499293e-14  4.268550e-14  6.030335e-14  1.313113e-14   \n",
      "8        ...       2.913736e-13  2.661790e-14  7.082328e-14  2.063020e-14   \n",
      "9        ...       1.156161e-13  1.420035e-14  2.513519e-15  1.497203e-14   \n",
      "10       ...       1.208371e-13  2.514285e-13  1.498434e-13  8.553168e-14   \n",
      "11       ...       5.649928e-14  1.563879e-13  1.664012e-13  1.879319e-13   \n",
      "12       ...       1.562047e-14  2.615271e-14  3.973849e-15  7.168993e-15   \n",
      "13       ...       8.612938e-15  4.108604e-14  7.294943e-15  1.298155e-14   \n",
      "14       ...       1.330953e-13  5.299130e-14  4.825089e-14  2.267945e-14   \n",
      "15       ...       1.262246e-13  6.463138e-14  4.220440e-14  4.089793e-14   \n",
      "16       ...       5.801070e-14  9.647397e-15  4.184015e-14  3.603364e-14   \n",
      "17       ...       6.173453e-14  1.651245e-14  1.727149e-15  2.997940e-14   \n",
      "18       ...       9.548287e-15  8.767414e-15  4.242113e-14  4.321033e-15   \n",
      "19       ...       9.650198e-15  9.470865e-14  2.489156e-14  2.062243e-15   \n",
      "20       ...       9.360072e-14  1.013920e-13  2.598260e-14  3.071832e-14   \n",
      "21       ...       1.031310e-14  1.050639e-15  4.554340e-16  6.841679e-16   \n",
      "22       ...       1.115444e-14  6.324497e-14  5.914294e-14  4.341973e-14   \n",
      "23       ...       8.352228e-15  4.407776e-15  4.961901e-15  3.462474e-14   \n",
      "24       ...       5.752384e-14  2.078924e-14  2.063850e-15  3.890204e-14   \n",
      "25       ...       1.521189e-14  2.172092e-15  1.064939e-14  1.264631e-15   \n",
      "26       ...       4.117690e-15  2.945604e-15  3.103615e-14  7.691516e-14   \n",
      "27       ...       1.504987e-13  3.625007e-14  4.722695e-14  3.146259e-14   \n",
      "28       ...       5.595883e-14  3.514471e-14  1.247014e-13  1.307097e-13   \n",
      "29       ...       1.876521e-15  5.896754e-14  1.260120e-13  5.982619e-14   \n",
      "..       ...                ...           ...           ...           ...   \n",
      "864      ...       9.829987e-15  1.509113e-14  1.991897e-14  1.536427e-14   \n",
      "865      ...       1.985648e-16  5.150913e-15  4.958460e-15  1.458831e-14   \n",
      "866      ...       1.968926e-14  1.233684e-14  6.133941e-17  1.944334e-15   \n",
      "867      ...       1.765925e-14  1.687125e-15  5.215265e-15  7.596481e-15   \n",
      "868      ...       7.301289e-15  1.685251e-14  7.810175e-15  2.571655e-16   \n",
      "869      ...       9.236740e-15  2.393010e-15  1.343050e-15  4.650267e-15   \n",
      "870      ...       1.031141e-14  5.961505e-15  5.195656e-15  2.919430e-15   \n",
      "871      ...       1.354754e-14  4.618734e-15  1.448478e-14  2.230289e-15   \n",
      "872      ...       1.873849e-14  4.406001e-14  3.463774e-14  7.855814e-15   \n",
      "873      ...       7.244800e-15  7.483791e-16  1.742470e-14  1.355443e-14   \n",
      "874      ...       1.918584e-14  1.457889e-15  6.218479e-16  4.168046e-15   \n",
      "875      ...       3.238487e-15  2.111790e-14  1.240769e-14  4.730319e-15   \n",
      "876      ...       4.814348e-15  7.058425e-15  3.799317e-16  5.539041e-15   \n",
      "877      ...       2.816380e-14  4.239138e-15  1.280255e-15  3.006724e-16   \n",
      "878      ...       2.300047e-15  2.509363e-15  7.667848e-15  1.629621e-15   \n",
      "879      ...       9.511366e-15  1.636648e-14  4.936439e-15  1.161408e-15   \n",
      "880      ...       2.702768e-14  1.105502e-14  1.197274e-14  7.994419e-15   \n",
      "881      ...       1.716463e-14  9.499999e-15  8.072395e-16  3.757659e-15   \n",
      "882      ...       2.803962e-14  3.910065e-14  2.591944e-14  7.182822e-15   \n",
      "883      ...       1.310910e-14  1.031769e-14  1.684152e-14  1.930657e-14   \n",
      "884      ...       4.165288e-15  4.757204e-15  2.039396e-15  8.939225e-15   \n",
      "885      ...       6.140442e-15  1.337534e-14  5.590427e-15  7.394952e-16   \n",
      "886      ...       4.902492e-15  3.795668e-15  5.198194e-15  1.018742e-14   \n",
      "887      ...       2.182941e-14  7.401801e-15  6.501749e-15  1.660765e-15   \n",
      "888      ...       9.224911e-15  3.499707e-15  3.200094e-16  4.329467e-15   \n",
      "889      ...       1.353776e-14  1.421704e-14  4.837768e-15  9.192683e-15   \n",
      "890      ...       4.820258e-16  4.284414e-15  1.432419e-15  1.338779e-14   \n",
      "891      ...       1.643426e-15  3.749610e-15  7.453214e-15  3.247540e-15   \n",
      "892      ...       2.036842e-14  1.083802e-14  3.288793e-16  7.496744e-15   \n",
      "893      ...       6.529365e-16  1.286273e-14  1.210493e-14  2.738664e-15   \n",
      "\n",
      "               31            32            33            34            35  \\\n",
      "0    6.677445e-13  5.712300e-13  7.626286e-14  9.591675e-14  8.670439e-14   \n",
      "1    9.574107e-14  4.523929e-14  8.356443e-15  5.370214e-14  7.514820e-14   \n",
      "2    5.757539e-14  1.696950e-14  1.074057e-14  2.125038e-14  1.983708e-14   \n",
      "3    8.908400e-14  2.145106e-14  1.903547e-15  6.295126e-15  3.977359e-14   \n",
      "4    1.663420e-16  2.416789e-14  7.522997e-14  6.798013e-14  5.359060e-14   \n",
      "5    8.752134e-14  8.237300e-14  1.194080e-13  3.689286e-16  2.903220e-14   \n",
      "6    2.848375e-14  2.836938e-14  5.459780e-14  7.903522e-14  2.814181e-14   \n",
      "7    1.288643e-13  1.709504e-13  2.699525e-14  3.366593e-14  1.285440e-14   \n",
      "8    2.022294e-14  3.134258e-14  6.343205e-14  6.345090e-14  9.812666e-15   \n",
      "9    6.918984e-14  2.209387e-14  1.046732e-13  5.604860e-14  4.908544e-14   \n",
      "10   8.179718e-14  1.037723e-13  5.294996e-14  1.231451e-15  2.507906e-14   \n",
      "11   1.409908e-13  5.582056e-14  7.063015e-14  5.374976e-15  1.890200e-14   \n",
      "12   3.105592e-14  4.342101e-14  4.907218e-14  4.919347e-14  5.044268e-15   \n",
      "13   7.686249e-15  6.055666e-14  4.341221e-14  3.698147e-15  6.391694e-15   \n",
      "14   2.164259e-14  1.853672e-14  5.209378e-14  4.981037e-14  2.328779e-14   \n",
      "15   8.025127e-14  5.901727e-14  5.227647e-14  5.386493e-14  1.845880e-14   \n",
      "16   5.969296e-14  1.304993e-13  6.417129e-14  6.169760e-15  6.659683e-16   \n",
      "17   5.073064e-14  2.454007e-14  1.594468e-14  1.129457e-14  3.783071e-14   \n",
      "18   1.019271e-14  4.656261e-14  3.872894e-14  3.562763e-15  1.895474e-15   \n",
      "19   1.524888e-14  3.390785e-14  7.797874e-15  9.802838e-15  1.158384e-14   \n",
      "20   8.969947e-14  5.199434e-14  6.376033e-15  9.674666e-15  1.529021e-14   \n",
      "21   6.111051e-15  3.019016e-14  1.970998e-14  1.080781e-14  3.548621e-14   \n",
      "22   6.175955e-14  1.421920e-14  8.302541e-15  3.224573e-14  6.472839e-15   \n",
      "23   1.849203e-14  1.215236e-15  4.836880e-16  4.186624e-16  1.103769e-15   \n",
      "24   7.025507e-15  1.117183e-14  1.485647e-14  6.360220e-15  1.486814e-14   \n",
      "25   4.853350e-15  1.744446e-14  1.264876e-14  8.288683e-15  7.180751e-15   \n",
      "26   5.402946e-14  5.976935e-14  5.801746e-14  2.428300e-14  8.493808e-15   \n",
      "27   1.040419e-13  1.391794e-13  5.099035e-14  1.643986e-15  7.336226e-15   \n",
      "28   3.603811e-14  1.015731e-13  1.154090e-13  5.548232e-14  1.033708e-14   \n",
      "29   8.003254e-14  4.990095e-14  2.784646e-14  1.922629e-14  3.246965e-15   \n",
      "..            ...           ...           ...           ...           ...   \n",
      "864  3.113600e-15  2.893341e-16  5.320861e-15  1.038516e-14  1.108417e-14   \n",
      "865  8.404018e-15  2.571042e-14  2.236379e-14  2.091866e-14  2.082678e-14   \n",
      "866  1.817255e-15  2.638576e-15  1.125529e-14  1.954910e-14  6.591787e-15   \n",
      "867  3.416445e-15  2.629290e-15  4.104755e-16  1.166968e-14  7.656820e-15   \n",
      "868  5.331299e-15  1.050615e-14  6.082971e-15  9.918370e-15  3.553371e-15   \n",
      "869  3.664719e-16  9.895739e-15  1.864566e-14  1.326986e-14  2.214766e-15   \n",
      "870  6.570281e-15  2.214370e-15  1.532918e-14  4.804874e-15  1.658671e-15   \n",
      "871  2.821613e-15  1.044940e-15  1.575627e-14  4.752130e-15  1.591946e-16   \n",
      "872  1.711546e-15  3.035443e-16  6.174234e-15  1.746158e-15  3.553293e-15   \n",
      "873  1.097591e-15  2.061711e-15  1.924905e-15  2.833875e-15  2.481796e-15   \n",
      "874  1.661205e-14  1.211976e-14  1.522188e-15  1.049427e-14  9.827830e-15   \n",
      "875  8.426504e-15  5.880057e-15  1.858160e-14  8.662828e-15  6.357791e-15   \n",
      "876  8.709686e-15  6.540205e-15  6.253072e-15  8.370928e-16  5.505700e-16   \n",
      "877  4.211864e-16  1.671972e-15  1.637485e-15  1.498696e-16  1.850389e-15   \n",
      "878  1.649887e-14  1.692518e-14  3.347596e-15  9.603524e-16  1.361299e-16   \n",
      "879  1.179471e-14  2.526879e-14  7.988475e-15  1.905924e-15  5.327206e-15   \n",
      "880  3.554626e-15  1.409668e-14  5.469987e-15  1.294891e-15  1.648936e-16   \n",
      "881  1.663598e-15  4.737868e-16  5.658510e-15  4.057300e-15  1.269171e-14   \n",
      "882  4.426163e-15  4.886245e-15  1.071884e-15  3.710671e-16  6.441841e-16   \n",
      "883  1.805259e-14  1.564602e-14  1.179307e-14  7.344276e-15  1.936571e-15   \n",
      "884  8.150728e-15  3.511789e-15  9.248614e-15  6.265920e-15  2.801984e-15   \n",
      "885  1.581594e-15  8.062128e-17  1.376911e-16  3.748507e-15  3.570655e-16   \n",
      "886  5.137331e-15  1.244811e-15  2.240583e-15  3.355209e-15  3.789868e-16   \n",
      "887  3.876366e-15  9.728886e-15  4.307037e-15  9.192730e-16  1.041766e-14   \n",
      "888  6.271370e-15  1.945670e-15  1.959909e-15  1.420990e-15  8.230731e-16   \n",
      "889  9.836544e-15  2.971033e-15  1.655927e-16  2.931197e-15  4.821122e-15   \n",
      "890  1.067391e-14  1.487729e-15  1.428947e-16  3.546746e-16  2.555044e-15   \n",
      "891  9.278334e-15  1.334912e-14  8.930044e-16  7.812788e-16  1.525390e-15   \n",
      "892  6.344260e-15  1.742405e-15  6.371799e-15  1.433259e-15  9.927001e-16   \n",
      "893  8.059515e-15  1.009960e-14  2.232950e-15  2.076991e-16  2.342227e-15   \n",
      "\n",
      "               36  \n",
      "0    1.696922e-14  \n",
      "1    3.649289e-14  \n",
      "2    6.823580e-15  \n",
      "3    3.619460e-14  \n",
      "4    1.041672e-14  \n",
      "5    7.827965e-16  \n",
      "6    1.858016e-14  \n",
      "7    2.690060e-15  \n",
      "8    1.312270e-15  \n",
      "9    7.389686e-15  \n",
      "10   6.363325e-14  \n",
      "11   2.030641e-14  \n",
      "12   1.547158e-14  \n",
      "13   5.104052e-16  \n",
      "14   4.906948e-15  \n",
      "15   6.274859e-16  \n",
      "16   1.863474e-14  \n",
      "17   8.804088e-15  \n",
      "18   9.889192e-16  \n",
      "19   1.625749e-14  \n",
      "20   2.138707e-14  \n",
      "21   1.585185e-14  \n",
      "22   1.801379e-15  \n",
      "23   9.752452e-16  \n",
      "24   9.976199e-15  \n",
      "25   5.597617e-14  \n",
      "26   5.078611e-15  \n",
      "27   1.179969e-14  \n",
      "28   1.679180e-15  \n",
      "29   5.376673e-15  \n",
      "..            ...  \n",
      "864  4.632323e-15  \n",
      "865  3.504045e-15  \n",
      "866  3.289288e-15  \n",
      "867  6.326374e-15  \n",
      "868  8.045230e-16  \n",
      "869  7.378063e-16  \n",
      "870  2.588635e-15  \n",
      "871  6.213741e-16  \n",
      "872  1.677243e-15  \n",
      "873  2.551837e-15  \n",
      "874  1.885950e-15  \n",
      "875  4.381715e-15  \n",
      "876  3.917343e-15  \n",
      "877  1.563046e-15  \n",
      "878  4.906089e-16  \n",
      "879  2.909305e-15  \n",
      "880  3.758312e-16  \n",
      "881  5.809068e-15  \n",
      "882  2.216169e-15  \n",
      "883  1.695545e-16  \n",
      "884  2.940292e-15  \n",
      "885  1.225543e-15  \n",
      "886  2.847426e-16  \n",
      "887  5.889655e-15  \n",
      "888  5.516806e-16  \n",
      "889  2.349872e-16  \n",
      "890  3.842666e-15  \n",
      "891  1.578448e-15  \n",
      "892  1.287506e-15  \n",
      "893  3.280045e-16  \n",
      "\n",
      "[894 rows x 38 columns]\n"
     ]
    }
   ],
   "source": [
    "averagedElectrodesByEpoch = [list(senal_suavizada(averageInEpoch(i))) for i in range(894)] \n",
    "# Primer Epoch\n",
    "\n",
    "plt.show()\n",
    "\n",
    "\n",
    "#data={'epoca': range(894),\n",
    "#      'frequ': epoch0_welch[0]\n",
    "#      'pot'  : [epoch0_welch[1], epoch1_welch[1], ]\n",
    "#     } \n",
    "\n",
    "#averagedEpochs = pd.DataFrame(data=data, columns=['epochs', 'frecuencas', 'potencias'])\n",
    "\n",
    "def freq_pots_relevantes(freqs, pots):\n",
    "    pairs_relevantes = filter(lambda x: x[0] <= 45.0, zip(freqs, pots))\n",
    "    freqs_relevantes = map(lambda x: x[0], pairs_relevantes)\n",
    "    amplitudes_relevantes = map(lambda x: x[1], pairs_relevantes)\n",
    "    return (freqs_relevantes, amplitudes_relevantes)\n",
    "    \n",
    "\n",
    "allEpochs = pd.DataFrame();\n",
    "for i in range(894):\n",
    "    epoch_welch = scipy.signal.welch(averagedElectrodesByEpoch[i], fs=250)\n",
    "    frecuencas_sampleadas = epoch_welch[0]; # Deberia ser siempre lo mismo\n",
    "    (freqs_relevantes, pots_relevantes) = freq_pots_relevantes(frecuencas_sampleadas, epoch_welch[1])\n",
    "    allEpochs = allEpochs.append(pd.DataFrame(pots_relevantes).transpose());\n",
    "    \n",
    "allEpochs = allEpochs.reset_index();\n",
    "\n",
    "print allEpochs\n",
    "\n",
    "# No se por que aparece mil veces el dataframe printeado\n",
    "# Arreglar eso\n",
    "# crei que los ';' lo arreglaban pero no"
   ]
  },
  {
   "cell_type": "code",
   "execution_count": 8,
   "metadata": {},
   "outputs": [
    {
     "name": "stderr",
     "output_type": "stream",
     "text": [
      "/home/brian/Documents/facultad/cienciadatos/venv/local/lib/python2.7/site-packages/seaborn/timeseries.py:183: UserWarning: The tsplot function is deprecated and will be removed or replaced (in a substantially altered version) in a future release.\n",
      "  warnings.warn(msg, UserWarning)\n"
     ]
    },
    {
     "data": {
      "image/png": "[encoded data removed]",
      "text/plain": [
       "<matplotlib.figure.Figure at 0x7f3fcc19af10>"
      ]
     },
     "metadata": {},
     "output_type": "display_data"
    }
   ],
   "source": [
    "\n",
    "# Viendo este grafico creo que habia que suavizar la funcion\n",
    "# Capaz asi el grafico de arriba se pone mas interesante\n",
    "\n",
    "\n",
    "sns.tsplot(averagedElectrodesByEpoch[20])\n",
    "plt.show()"
   ]
  },
  {
   "cell_type": "code",
   "execution_count": 17,
   "metadata": {},
   "outputs": [
    {
     "data": {
      "image/png": "[encoded data removed]",
      "text/plain": [
       "<matplotlib.figure.Figure at 0x7f3f74ab1c50>"
      ]
     },
     "metadata": {},
     "output_type": "display_data"
    }
   ],
   "source": [
    "sns.heatmap(allEpochs.transpose(), cmap=\"viridis\", vmax=2e-11 )\n",
    "plt.show()\n",
    "\n"
   ]
  },
  {
   "cell_type": "code",
   "execution_count": 10,
   "metadata": {
    "collapsed": true
   },
   "outputs": [],
   "source": [
    "freqs_usadas_finales = None\n",
    "def calc_potencias(electrodo_idx):\n",
    "    def get_epoch(epoch_idx):\n",
    "        epoch = mm[epoch_idx, electrodo_idx, :]\n",
    "        return epoch\n",
    "    def potencias_epoch(epoch_idx):\n",
    "        welch_result = scipy.signal.welch(get_epoch(epoch_idx), fs=250)\n",
    "        global freqs_usadas_finales\n",
    "        (freqs_relevantes, pots_relevantes) = freq_pots_relevantes(welch_result[0], welch_result[1])\n",
    "        freqs_usadas_finales = freqs_relevantes\n",
    "        return pots_relevantes\n",
    "    potencias = [potencias_epoch(i) for i in range(894)]\n",
    "    res = []\n",
    "    for i in range(len(potencias[0])):\n",
    "        res.append(np.average([pot[i] for pot in potencias]))\n",
    "    return res"
   ]
  },
  {
   "cell_type": "code",
   "execution_count": 11,
   "metadata": {
    "collapsed": true
   },
   "outputs": [],
   "source": [
    "\n",
    "\n",
    "colors = sns.color_palette(\"muted\", n_colors=201)\n",
    "potencias_electrodo = []\n",
    "for i in range(200):\n",
    "    potencias_electrodo.append(calc_potencias(i))\n",
    "\n"
   ]
  },
  {
   "cell_type": "code",
   "execution_count": 12,
   "metadata": {},
   "outputs": [
    {
     "name": "stdout",
     "output_type": "stream",
     "text": [
      "[0.0, 1.2437810945273631, 2.4875621890547261, 3.7313432835820892, 4.9751243781094523, 6.2189054726368154, 7.4626865671641784, 8.7064676616915406, 9.9502487562189046, 11.194029850746269, 12.437810945273631, 13.681592039800993, 14.925373134328357, 16.169154228855721, 17.412935323383081, 18.656716417910445, 19.900497512437809, 21.144278606965173, 22.388059701492537, 23.631840796019898, 24.875621890547261, 26.119402985074625, 27.363184079601986, 28.60696517412935, 29.850746268656714, 31.094527363184078, 32.338308457711442, 33.582089552238806, 34.825870646766163, 36.069651741293526, 37.31343283582089, 38.557213930348254, 39.800995024875618, 41.044776119402982, 42.288557213930346, 43.53233830845771, 44.776119402985074]\n"
     ]
    }
   ],
   "source": [
    "print freqs_usadas_finales"
   ]
  },
  {
   "cell_type": "code",
   "execution_count": 51,
   "metadata": {},
   "outputs": [
    {
     "data": {
      "image/png": "[encoded data removed]",
      "text/plain": [
       "<matplotlib.figure.Figure at 0x7f6a22892310>"
      ]
     },
     "metadata": {},
     "output_type": "display_data"
    }
   ],
   "source": [
    "\n",
    "for i in range(200):\n",
    "    sns.tsplot(potencias_electrodo[i], color=colors[i])\n",
    "plt.show()"
   ]
  },
  {
   "cell_type": "code",
   "execution_count": 13,
   "metadata": {
    "collapsed": true
   },
   "outputs": [],
   "source": [
    "potencias_promedio = [np.average([pot[i] for pot in potencias_electrodo ]) for i in range(len(potencias_electrodo[0]))]"
   ]
  },
  {
   "cell_type": "code",
   "execution_count": 14,
   "metadata": {},
   "outputs": [
    {
     "name": "stdout",
     "output_type": "stream",
     "text": [
      "[2.8870109728898942e-12, 1.4022475132621775e-11, 6.3748510132892206e-12, 3.0178767765881515e-12, 1.8255740063061053e-12, 1.1757129929191992e-12, 7.4279733214882291e-13, 5.3965120179067024e-13, 4.2856593639310924e-13, 3.9741587762763603e-13, 4.2392255862702202e-13, 3.3052503402534374e-13, 2.6452143983104499e-13, 2.2241657307239012e-13, 1.9691563881358547e-13, 1.8102655284626709e-13, 1.6801927090973569e-13, 1.6190058162431188e-13, 1.5743982697169304e-13, 1.6238982785183211e-13, 1.7084803145692925e-13, 1.7931725007388349e-13, 1.7423871923190482e-13, 1.662919499382815e-13, 1.7680784573140061e-13, 1.8034909918238684e-13, 1.7876671947718489e-13, 1.9260871473569553e-13, 1.918064017054828e-13, 1.9203311350900265e-13, 1.8799396041675462e-13, 1.7827697152530977e-13, 1.6274574469912347e-13, 1.4136016322900896e-13, 1.073026559173484e-13, 7.2954085189484526e-14, 4.5761580751653749e-14]\n"
     ]
    }
   ],
   "source": [
    "print potencias_promedio"
   ]
  },
  {
   "cell_type": "code",
   "execution_count": 18,
   "metadata": {
    "collapsed": true
   },
   "outputs": [],
   "source": [
    "def potencia_banda(low, high):\n",
    "    # Thomas dice np.average \n",
    "    return np.average(map(lambda x: x[0], filter(lambda x: x[1] >= low and x[1] < high, zip(potencias_promedio, freqs_usadas_finales))))"
   ]
  },
  {
   "cell_type": "code",
   "execution_count": 19,
   "metadata": {},
   "outputs": [
    {
     "name": "stdout",
     "output_type": "stream",
     "text": [
      "6.57555347385e-12\n",
      "1.24802811046e-12\n",
      "4.4738889361e-13\n",
      "1.93761324456e-13\n",
      "1.52663267528e-13\n"
     ]
    }
   ],
   "source": [
    "banda_delta = potencia_banda(0., 4.0)\n",
    "banda_theta = potencia_banda(4.0, 8.0)\n",
    "banda_alpha = potencia_banda(8.0, 13.0)\n",
    "banda_beta = potencia_banda(13.0, 30.)\n",
    "banda_gamma = potencia_banda(30.0, 125.)\n",
    "print banda_delta\n",
    "print banda_theta\n",
    "print banda_alpha\n",
    "print banda_beta\n",
    "print banda_gamma"
   ]
  },
  {
   "cell_type": "code",
   "execution_count": null,
   "metadata": {
    "collapsed": true
   },
   "outputs": [],
   "source": []
  },
  {
   "cell_type": "code",
   "execution_count": null,
   "metadata": {
    "collapsed": true
   },
   "outputs": [],
   "source": []
  }
 ],
 "metadata": {
  "kernelspec": {
   "display_name": "Python 2",
   "language": "python",
   "name": "python2"
  },
  "language_info": {
   "codemirror_mode": {
    "name": "ipython",
    "version": 2
   },
   "file_extension": ".py",
   "mimetype": "text/x-python",
   "name": "python",
   "nbconvert_exporter": "python",
   "pygments_lexer": "ipython2",
   "version": "2.7.12"
  }
 },
 "nbformat": 4,
 "nbformat_minor": 2
}
