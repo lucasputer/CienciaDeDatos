{
 "cells": [
  {
   "cell_type": "code",
   "execution_count": 84,
   "metadata": {},
   "outputs": [],
   "source": [
    "import pandas as pd\n",
    "import tp3 as lib\n",
    "import scipy.io\n",
    "import numpy as np\n",
    "import matplotlib.pyplot as plt\n",
    "import seaborn as sns; sns.set_style(\"darkgrid\")\n",
    "import scipy\n",
    "import sklearn\n",
    "from sklearn import metrics\n",
    "sns.plt = plt"
   ]
  },
  {
   "cell_type": "code",
   "execution_count": 85,
   "metadata": {},
   "outputs": [
    {
     "name": "stdout",
     "output_type": "stream",
     "text": [
      "   sujeto         delta         theta         alpha          beta  \\\n",
      "0       0  4.343248e-12  8.632094e-13  6.974374e-13  3.389951e-13   \n",
      "1       1  2.925933e-12  1.526239e-12  6.247791e-12  3.256419e-13   \n",
      "2       2  3.137522e-12  1.066840e-12  3.155120e-12  1.804304e-13   \n",
      "3       3  3.754393e-12  1.203367e-12  5.461378e-12  2.723860e-13   \n",
      "4       4  2.713553e-12  2.125486e-12  2.993980e-12  2.811052e-13   \n",
      "\n",
      "          gamma  info_intra  info_inter    tipo  \n",
      "0  1.805058e-13     92.5600  128.991522  normal  \n",
      "1  7.748693e-14     83.2524  128.161690  normal  \n",
      "2  4.018060e-14     81.9084  128.238238  normal  \n",
      "3  1.123612e-13     85.6552  127.468520  normal  \n",
      "4  4.645266e-14     83.5424  128.971964  normal  \n"
     ]
    }
   ],
   "source": [
    "df = pd.read_csv('datos.csv', sep=' ')\n",
    "\n",
    "print df.head()"
   ]
  },
  {
   "cell_type": "code",
   "execution_count": 86,
   "metadata": {},
   "outputs": [
    {
     "data": {
      "image/png": "[encoded data removed]",
      "text/plain": [
       "<matplotlib.figure.Figure at 0x113c52610>"
      ]
     },
     "metadata": {},
     "output_type": "display_data"
    },
    {
     "name": "stdout",
     "output_type": "stream",
     "text": [
      "[ 0.    0.05  1.  ]\n"
     ]
    },
    {
     "name": "stderr",
     "output_type": "stream",
     "text": [
      "/usr/local/lib/python2.7/site-packages/sklearn/metrics/ranking.py:542: UndefinedMetricWarning: No positive samples in y_true, true positive value should be meaningless\n",
      "  UndefinedMetricWarning)\n"
     ]
    }
   ],
   "source": [
    "lib = reload(lib)\n",
    "roc = lib.roc_and_roll(df, \"alpha\")\n",
    "\n",
    "plt.figure()\n",
    "lw = 2\n",
    "plt.plot(roc['fpr'], roc['tpr'], color='darkorange',\n",
    "         lw=lw )\n",
    "plt.plot([0, 1], [0, 1], color='navy', lw=lw, linestyle='--')\n",
    "plt.xlim([0.0, 1.0])\n",
    "plt.ylim([0.0, 1.0])\n",
    "plt.xlabel('False Positive Rate')\n",
    "plt.ylabel('True Positive Rate')\n",
    "plt.title('Roc')\n",
    "plt.legend(loc=\"lower right\")\n",
    "plt.show()\n",
    "\n",
    "fpr, tpr, thresholds = sklearn.metrics.roc_curve(df[\"tipo\"], df[\"alpha\"], pos_label=2)\n",
    "print fpr\n",
    "\n",
    "fpr, tpr, threshold = metrics.roc_curve(y_test, preds)\n",
    "roc_auc = metrics.auc(fpr, tpr)\n",
    "\n",
    "# method I: plt\n",
    "import matplotlib.pyplot as plt\n",
    "plt.title('Receiver Operating Characteristic')\n",
    "plt.plot(fpr, tpr, 'b', label = 'AUC = %0.2f' % roc_auc)\n",
    "plt.legend(loc = 'lower right')\n",
    "plt.plot([0, 1], [0, 1],'r--')\n",
    "plt.xlim([0, 1])\n",
    "plt.ylim([0, 1])\n",
    "plt.ylabel('True Positive Rate')\n",
    "plt.xlabel('False Positive Rate')\n",
    "plt.show()"
   ]
  },
  {
   "cell_type": "code",
   "execution_count": null,
   "metadata": {
    "collapsed": true
   },
   "outputs": [],
   "source": []
  },
  {
   "cell_type": "code",
   "execution_count": null,
   "metadata": {
    "collapsed": true
   },
   "outputs": [],
   "source": []
  },
  {
   "cell_type": "code",
   "execution_count": null,
   "metadata": {
    "collapsed": true
   },
   "outputs": [],
   "source": []
  }
 ],
 "metadata": {
  "kernelspec": {
   "display_name": "Python 2",
   "language": "python",
   "name": "python2"
  },
  "language_info": {
   "codemirror_mode": {
    "name": "ipython",
    "version": 2
   },
   "file_extension": ".py",
   "mimetype": "text/x-python",
   "name": "python",
   "nbconvert_exporter": "python",
   "pygments_lexer": "ipython2",
   "version": "2.7.13"
  }
 },
 "nbformat": 4,
 "nbformat_minor": 2
}
