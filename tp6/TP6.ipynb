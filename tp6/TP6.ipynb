{
 "cells": [
  {
   "cell_type": "markdown",
   "metadata": {},
   "source": [
    "# TP6 - Procesamiento de Lenguaje Natural"
   ]
  },
  {
   "cell_type": "markdown",
   "metadata": {},
   "source": [
    "Imports"
   ]
  },
  {
   "cell_type": "code",
   "execution_count": 352,
   "metadata": {
    "collapsed": false
   },
   "outputs": [],
   "source": [
    "import pandas as pd\n",
    "import scipy.io\n",
    "import numpy as np\n",
    "import matplotlib.pyplot as plt\n",
    "import seaborn as sns; sns.set_style(\"darkgrid\")\n",
    "import scipy\n",
    "import itertools\n",
    "import random\n",
    "import math\n",
    "import operator\n",
    "import re\n",
    "import nltk\n",
    "import string\n",
    "import xml.etree.ElementTree as et\n",
    "from random import shuffle\n",
    "from heapq import nsmallest\n",
    "from nltk.corpus import wordnet\n",
    "from lxml import etree\n",
    "from collections import Counter\n",
    "from nltk.stem.wordnet import WordNetLemmatizer\n",
    "from nltk.collocations import *\n",
    "from nltk.corpus import stopwords\n",
    "from sympy import *\n",
    "wnl = WordNetLemmatizer()\n",
    "sns.plt = plt\n",
    "# nltk.download()"
   ]
  },
  {
   "cell_type": "markdown",
   "metadata": {},
   "source": [
    "## 1 - Asociacion de palabras\n",
    "1.1 Levantar el corpus AP, separando cada noticia como un elemento distinto en un diccionario ( < doc_no > : < text > ).\n",
    "\n",
    "Librerias necesarias: html5lib, lxml, bs4, re"
   ]
  },
  {
   "cell_type": "code",
   "execution_count": 9,
   "metadata": {
    "collapsed": false
   },
   "outputs": [],
   "source": [
    "ap_xml_data = open('data/ap.txt').read()\n",
    "sent_detector = nltk.data.load('tokenizers/punkt/english.pickle')\n",
    "tokenizer = nltk.tokenize.TreebankWordTokenizer()\n",
    "\n",
    "def word_normalize(txt):\n",
    "    return txt.translate(None, string.punctuation).lower() #.replace(\"'\", \"\")\n",
    "\n",
    "def xml2df(xml_data):\n",
    "    root = et.XML(xml_data, parser=etree.XMLParser(recover=True)) # element tree\n",
    "    all_records = []\n",
    "    for i, child in enumerate(root):\n",
    "        record = {}\n",
    "        for subchild in child:\n",
    "            if subchild.tag==\"DOCNO\":\n",
    "                record[subchild.tag] = subchild.text\n",
    "            elif subchild.tag==\"TEXT\":\n",
    "                record[subchild.tag] = beautify(word_normalize(subchild.text))\n",
    "        all_records.append(record)\n",
    "    df = pd.DataFrame(all_records)\n",
    "    df.set_index('DOCNO', inplace=True)\n",
    "    return df\n",
    "\n",
    "def split(text):\n",
    "    sentences = sent_detector.tokenize(text)\n",
    "    tokens = [tokenizer.tokenize(sent) for sent in sentences]\n",
    "    return tokens\n",
    "\n",
    "def get_wordnet_pos(treebank_tag):\n",
    "    if treebank_tag.startswith('J'):\n",
    "        return wordnet.ADJ\n",
    "    elif treebank_tag.startswith('V'):\n",
    "        return wordnet.VERB\n",
    "    elif treebank_tag.startswith('N'):\n",
    "        return wordnet.NOUN\n",
    "    elif treebank_tag.startswith('R'):\n",
    "        return wordnet.ADV\n",
    "    else:\n",
    "        return None\n",
    "\n",
    "def pos_tag(tokens):\n",
    "    pos_tokens = [nltk.pos_tag(token) for token in tokens]\n",
    "    pos_tokens = [[(word, wnl.lemmatize(word,get_wordnet_pos(pos_tag)), [pos_tag]) \n",
    "                  for (word,pos_tag) in filter(lambda (w,t): get_wordnet_pos(t) != None,pos)] \n",
    "                  for pos in pos_tokens]\n",
    "    return pos_tokens\n",
    "\n",
    "def beautify(txt):\n",
    "    tokens = split(txt)\n",
    "    lemma_pos_token = pos_tag(tokens)\n",
    "    return [w2.encode('utf-8') for sublist in lemma_pos_token for (w1,w2,t) in sublist]"
   ]
  },
  {
   "cell_type": "code",
   "execution_count": 150,
   "metadata": {
    "collapsed": true
   },
   "outputs": [],
   "source": [
    "ap_df = xml2df(ap_xml_data)"
   ]
  },
  {
   "cell_type": "code",
   "execution_count": 130,
   "metadata": {
    "collapsed": false
   },
   "outputs": [
    {
     "name": "stdout",
     "output_type": "stream",
     "text": [
      "AP cargado.\n",
      "Resumen de los primeros 10 documentos:\n",
      "                                                              TEXT\n",
      "DOCNO                                                             \n",
      " AP881218-0003   [16-year-old, student, private, baptist, schoo...\n",
      " AP880224-0195   [bechtel, group, inc, offer, sell, oil, israel...\n",
      " AP881017-0144   [gunman, take, 74-year-old, woman, hostage, be...\n",
      " AP881017-0219   [today, be, saturday, day, be, day, leave, yea...\n",
      " AP900117-0022   [cupid, have, new, message, lover, valentine, ...\n",
      " AP880405-0167   [reagan, administration, be, weigh, invoke, la...\n",
      " AP880825-0239   [more, skin, protected, specie, alligator, be,...\n",
      " AP880325-0232   [be, organize, union, boost, single, candidate...\n",
      " AP880908-0056   [here, be, summary, development, forest, brush...\n",
      " AP881105-0097   [jean-pierre, stirbois, man, extreme-right, na...\n"
     ]
    }
   ],
   "source": [
    "print \"AP cargado.\"\n",
    "print \"Resumen de los primeros 10 documentos:\"\n",
    "print ap_df.iloc[0:10]"
   ]
  },
  {
   "cell_type": "markdown",
   "metadata": {},
   "source": [
    "1.2 Calcular el tamano del vocabulario."
   ]
  },
  {
   "cell_type": "code",
   "execution_count": 131,
   "metadata": {
    "collapsed": false
   },
   "outputs": [],
   "source": [
    "freq_vocab = dict()\n",
    "for index, row in ap_df.iterrows():\n",
    "    for word in row[0]:\n",
    "        freq_vocab[word] = freq_vocab.get(word, 0) + 1"
   ]
  },
  {
   "cell_type": "code",
   "execution_count": 132,
   "metadata": {
    "collapsed": false
   },
   "outputs": [
    {
     "name": "stdout",
     "output_type": "stream",
     "text": [
      "El vocabulario tiene: 32717 palabras.\n"
     ]
    }
   ],
   "source": [
    "print \"El vocabulario tiene: \" + str(len(freq_vocab)) + \" palabras.\""
   ]
  },
  {
   "cell_type": "markdown",
   "metadata": {},
   "source": [
    "1.3 Para las 500 palabras con mas apariciones, calcular el par mas asociado segun la medida presentada."
   ]
  },
  {
   "cell_type": "code",
   "execution_count": 133,
   "metadata": {
    "collapsed": false
   },
   "outputs": [
    {
     "name": "stdout",
     "output_type": "stream",
     "text": [
      "Se obtuvieron las 500 palabras con mas apariciones.\n"
     ]
    }
   ],
   "source": [
    "max_freq_vocab = dict(sorted(freq_vocab.iteritems(), key=operator.itemgetter(1), reverse=True)[:500])\n",
    "print \"Se obtuvieron las \" + str(len(max_freq_vocab)) + \" palabras con mas apariciones.\""
   ]
  },
  {
   "cell_type": "markdown",
   "metadata": {},
   "source": [
    "Usamos PMI:\n",
    "\n",
    "Sean X,Y palabras, N la cantidad de palabras de todos los textos, W la ventana de co-ocurrencia:\n",
    "\n",
    "f(X)=occurs(X). f(X,Y)=occurs(Y despues de X, a distancia <= W)/(W-1).\n",
    "\n",
    "P(X)=f(X)/N. P(X,Y)=f(X,Y)/N.\n",
    "\n",
    "I(X,Y)=log2(P(X,Y) / (P(X) x P(Y)))=log2( ( f(X,Y) x N ) / ( f(X) x f(Y) ))"
   ]
  },
  {
   "cell_type": "code",
   "execution_count": 141,
   "metadata": {
    "collapsed": false
   },
   "outputs": [],
   "source": [
    "bigram_measures = nltk.collocations.BigramAssocMeasures()\n",
    "def score_associated_pairs(txts, relevant_words, W):\n",
    "    finder = BigramCollocationFinder.from_words(\n",
    "        BigramCollocationFinder._build_new_documents(txts, BigramCollocationFinder.default_ws, pad_right=True),\n",
    "        window_size=W)\n",
    "    finder.apply_word_filter(lambda w: w not in relevant_words or w in stopwords.words('english'))\n",
    "    finder.apply_ngram_filter(lambda w1, w2: w1==w2)\n",
    "    return finder.score_ngrams(bigram_measures.pmi)\n",
    "scores = score_associated_pairs(ap_df.iloc[:,0], max_freq_vocab.keys(), 5)"
   ]
  },
  {
   "cell_type": "code",
   "execution_count": 142,
   "metadata": {
    "collapsed": false
   },
   "outputs": [
    {
     "name": "stdout",
     "output_type": "stream",
     "text": [
      "10 pares mas asociados:\n",
      "[(('prime', 'minister'), 7.814928054166025), (('eastern', 'europe'), 7.379277777071842), (('speak', 'condition'), 7.1681626638319536), (('michael', 'dukakis'), 6.9105120703793546), (('human', 'right'), 6.891016830985695), (('west', 'german'), 6.8637168539690485), (('value', 'index'), 6.83568304507687), (('exchange', 'index'), 6.825274779196739), (('news', 'conference'), 6.8132650886796995), (('radio', 'station'), 6.725147577979957)]\n"
     ]
    }
   ],
   "source": [
    "print \"10 pares mas asociados:\"\n",
    "print scores[0:10]"
   ]
  },
  {
   "cell_type": "code",
   "execution_count": 143,
   "metadata": {
    "collapsed": false
   },
   "outputs": [
    {
     "name": "stdout",
     "output_type": "stream",
     "text": [
      "Palabra mas asociada a cada una de las 500 mas frecuentes (primeras 50):\n",
      "{'attorney': 'general', 'financial': 'index', 'sentence': 'prison', 'german': 'mark', 'executive': 'director', 'washington': 'c', 'radio': 'station', 'human': 'right', 'foreign': 'minister', 'george': 'bush', 'speak': 'condition', 'index': 'fell', 'district': 'judge', 'justice': 'department', 'west': 'german', 'exchange': 'index', 'cent': 'low', 'source': 'speak', 'low': 'cent', 'interest': 'rate', 'new': 'york', 'white': 'house', 'east': 'germany', 'tell': 'reporter', 'stock': 'exchange', 'eastern': 'europe', 'southern': 'california', 'news': 'conference', 'communist': 'party', 'presidential': 'candidate', 'prime': 'minister', 'vice': 'president', 'medical': 'center', 'michael': 'dukakis', 'value': 'index', 'n': 'c', 'chief': 'executive', 'airline': 'flight', 'soviet': 'union', 'average': 'point', 'secretary': 'james'}\n"
     ]
    }
   ],
   "source": [
    "print \"Palabra mas asociada a cada una de las 500 mas frecuentes (primeras 50):\"\n",
    "most_associated_pairs = dict()\n",
    "for ((w1,w2),score) in scores[0:50]:\n",
    "    if w1 not in most_associated_pairs:\n",
    "        most_associated_pairs[w1] = w2\n",
    "print most_associated_pairs"
   ]
  },
  {
   "cell_type": "markdown",
   "metadata": {},
   "source": [
    "## 2 -  Informacion Lexica\n",
    "Bajar de Project Gutenberg el libro de Darwin ON THE ORIGIN OF SPECIES.\n",
    "\n",
    "2.1 Procesar el texto, tokenizando eliminando signos de puntuacion."
   ]
  },
  {
   "cell_type": "code",
   "execution_count": 356,
   "metadata": {
    "collapsed": false
   },
   "outputs": [],
   "source": [
    "origin_txt = open('data/origin.txt').read()\n",
    "origin_txt = beautify(word_normalize(origin_txt))"
   ]
  },
  {
   "cell_type": "code",
   "execution_count": 359,
   "metadata": {
    "collapsed": false
   },
   "outputs": [
    {
     "name": "stdout",
     "output_type": "stream",
     "text": [
      "['origin', 'specie', 'introduction', 'board', 'hm', 'beagle', 'naturalist', 'i', 'be', 'much', 'struck', 'certain', 'fact', 'distribution', 'organic', 'being', 'inhabit', 'south', 'america', 'geological', 'relation', 'present', 'past', 'inhabitant', 'continent', 'fact', 'be', 'see', 'latter', 'chapter', 'volume', 'seem', 'throw', 'light', 'origin', 'speciesthat', 'mystery', 'mystery', 'have', 'be', 'call', 'great', 'philosopher', 'return', 'home', 'occur', 'something', 'perhaps', 'be', 'make']\n"
     ]
    }
   ],
   "source": [
    "print origin_txt[0:50]"
   ]
  },
  {
   "cell_type": "markdown",
   "metadata": {},
   "source": [
    "2.2 Siguiendo el artıculo de la seccion, calcular la autocorrelacion para estimar la distribucion de la palabra a lo largo del texto."
   ]
  },
  {
   "cell_type": "code",
   "execution_count": 318,
   "metadata": {
    "collapsed": false
   },
   "outputs": [],
   "source": [
    "def gaussian_kernel(t,sigma):\n",
    "    return scipy.stats.norm.pdf(t, 0.0, sigma) #(np.e**(-t*t/(2*sigma*sigma)))/(math.sqrt(2*pi)*sigma)\n",
    "\n",
    "def rate_of_occurence(points_of_interest, word_positions):\n",
    "    return [sum([gaussian_kernel(t-x,50.0) for x in nsmallest(100, word_positions, key=lambda x: abs(x-t))[::2]]) for t in points_of_interest]"
   ]
  },
  {
   "cell_type": "markdown",
   "metadata": {},
   "source": [
    "Vamos a testear las funciones para la palabra \"instinct\", la cual es usa en el paper:"
   ]
  },
  {
   "cell_type": "code",
   "execution_count": 380,
   "metadata": {
    "collapsed": false
   },
   "outputs": [],
   "source": [
    "def calculate_word_occurs(txt):\n",
    "    occurs = dict()\n",
    "    for i in range(len(txt)):\n",
    "        word = txt[i]\n",
    "        if (word in example_words):\n",
    "            occurs[word] = occurs.get(word,[]) + [i]\n",
    "    return occurs\n",
    "\n",
    "example_words = [\"instinct\"]\n",
    "example_word_occurs = calculate_word_occurs(origin_txt)\n",
    "N = len(origin_txt)"
   ]
  },
  {
   "cell_type": "code",
   "execution_count": 369,
   "metadata": {
    "collapsed": false
   },
   "outputs": [],
   "source": [
    "POINT_STEP = 150\n",
    "points_of_interest = range(0,N,POINT_STEP)\n",
    "example_word_rates = dict()\n",
    "for word in example_words:\n",
    "    example_word_rates[word] = rate_of_occurence(points_of_interest, example_word_occurs[word]) #[rate_of_occurence(i,example_word_occurs[word]) for i in points_of_interest]"
   ]
  },
  {
   "cell_type": "code",
   "execution_count": 364,
   "metadata": {
    "collapsed": false
   },
   "outputs": [],
   "source": [
    "rate_df = pd.DataFrame(example_word_rates[\"instinct\"], columns=['Rate'], index=points_of_interest)"
   ]
  },
  {
   "cell_type": "code",
   "execution_count": 365,
   "metadata": {
    "collapsed": false,
    "scrolled": true
   },
   "outputs": [
    {
     "data": {
      "image/png": "[encoded data removed]",
      "text/plain": [
       "<matplotlib.figure.Figure at 0x131576a10>"
      ]
     },
     "metadata": {},
     "output_type": "display_data"
    }
   ],
   "source": [
    "ax = rate_df.plot()\n",
    "ax.set_title(\"Rate of occurence 'instinct'\")\n",
    "ax.set_xlabel(\"Text position\")\n",
    "ax.set_ylabel(\"Rate\")\n",
    "plt.show()"
   ]
  },
  {
   "cell_type": "code",
   "execution_count": 337,
   "metadata": {
    "collapsed": false
   },
   "outputs": [],
   "source": [
    "def autocorrelation(points,word_positions,rates):\n",
    "    n = len(points)\n",
    "    sum_rate = sum(rates)\n",
    "    sum_sq_rate = sum([r*r for r in rates])\n",
    "    denom = (sum_sq_rate / n) - (sum_rate / n) * (sum_rate / n)\n",
    "    rates_off = rate_of_occurence(range(N,N+10000,POINT_STEP), word_positions)\n",
    "    rates_tau = rates\n",
    "    autocorr = []\n",
    "    sum_rates = sum(rates)\n",
    "    sum_rates_tau = sum_rates\n",
    "    for rate in rates_off:\n",
    "        sum_comp_rates = sum([rates[i] * rates_tau[i] for i in range(len(rates))])\n",
    "        autocorr.append((sum_comp_rates / n - (sum_rates / n) * (sum_rates_tau / n)) / denom)\n",
    "        sum_rates_tau = sum_rates_tau - rates_tau[0] + rate\n",
    "        rates_tau = rates_tau[1:]\n",
    "        rates_tau.append(rate)\n",
    "    return autocorr"
   ]
  },
  {
   "cell_type": "markdown",
   "metadata": {},
   "source": [
    "Se calcula la autocorrelacion de 'instinct' en el texto:"
   ]
  },
  {
   "cell_type": "code",
   "execution_count": 350,
   "metadata": {
    "collapsed": false
   },
   "outputs": [],
   "source": [
    "autocorr = autocorrelation(points_of_interest, example_word_occurs[\"instinct\"], example_word_rates[\"instinct\"])"
   ]
  },
  {
   "cell_type": "markdown",
   "metadata": {},
   "source": [
    "Se hace un random shuffle del texto y se vuelve a calcular la autocorrelacion de 'instinct':"
   ]
  },
  {
   "cell_type": "code",
   "execution_count": 366,
   "metadata": {
    "collapsed": true
   },
   "outputs": [],
   "source": [
    "random_txt = origin_txt[:]\n",
    "random.shuffle(random_txt)"
   ]
  },
  {
   "cell_type": "code",
   "execution_count": 381,
   "metadata": {
    "collapsed": false
   },
   "outputs": [],
   "source": [
    "random_word_occurs = calculate_word_occurs(random_txt)\n",
    "random_word_rates = dict()\n",
    "for word in example_words:\n",
    "    random_word_rates[word] = rate_of_occurence(points_of_interest, random_word_occurs[word])"
   ]
  },
  {
   "cell_type": "code",
   "execution_count": 382,
   "metadata": {
    "collapsed": true
   },
   "outputs": [],
   "source": [
    "random_autocorr = autocorrelation(points_of_interest, random_word_occurs[\"instinct\"], random_word_rates[\"instinct\"])\n",
    "random_autocorr_df = pd.DataFrame(random_autocorr, columns=['Autocorrelation'], index=range(0,10000,POINT_STEP))"
   ]
  },
  {
   "cell_type": "markdown",
   "metadata": {},
   "source": [
    "Se grafica la autocorrelacion de 'instinct' comparandolo con el caso en que el texto se randomiza:"
   ]
  },
  {
   "cell_type": "code",
   "execution_count": 386,
   "metadata": {
    "collapsed": false
   },
   "outputs": [
    {
     "data": {
      "image/png": "[encoded data removed]",
      "text/plain": [
       "<matplotlib.figure.Figure at 0x131d2be50>"
      ]
     },
     "metadata": {},
     "output_type": "display_data"
    }
   ],
   "source": [
    "autocorr_df = pd.DataFrame(zip(autocorr,random_autocorr), columns=['Autocorrelation','Random Autocorrelation'], index=range(0,10000,POINT_STEP))\n",
    "ax = autocorr_df.plot()\n",
    "ax.set_title(\"Autocorrelation of 'instinct'\")\n",
    "ax.set_xlabel(\"Tau\")\n",
    "ax.set_ylabel(\"Autocorrelation\")\n",
    "plt.show()"
   ]
  },
  {
   "cell_type": "markdown",
   "metadata": {},
   "source": [
    "2.3 Calcular la entropia de una seleccion de 100 palabras que abarquen el rango de frecuencia de aparicion en el libro, es decir elegir palabras que son muy frecuentes y otras de baja frecuencia."
   ]
  },
  {
   "cell_type": "markdown",
   "metadata": {},
   "source": [
    "2.4 Calcular la entropia de las palabras seleccionadas anteriormente, randomizando su posicion en el texto. Comparar con los resultados del punto anterior."
   ]
  },
  {
   "cell_type": "markdown",
   "metadata": {},
   "source": [
    "## 3 - Word embeddings, distancia semantica y Word-Net\n",
    "3.1 Utilizando el test WordSim3531, comparar el rendimiento entre LSA[3] y Word2Vec2 [4]."
   ]
  },
  {
   "cell_type": "markdown",
   "metadata": {},
   "source": [
    "3.2 Comparar los distintos word embeddings con las medidas definidas en WordNet."
   ]
  },
  {
   "cell_type": "code",
   "execution_count": null,
   "metadata": {
    "collapsed": true
   },
   "outputs": [],
   "source": []
  },
  {
   "cell_type": "code",
   "execution_count": null,
   "metadata": {
    "collapsed": true
   },
   "outputs": [],
   "source": []
  }
 ],
 "metadata": {
  "kernelspec": {
   "display_name": "py2",
   "language": "python",
   "name": "py2"
  },
  "language_info": {
   "codemirror_mode": {
    "name": "ipython",
    "version": 2
   },
   "file_extension": ".py",
   "mimetype": "text/x-python",
   "name": "python",
   "nbconvert_exporter": "python",
   "pygments_lexer": "ipython2",
   "version": "2.7.10"
  }
 },
 "nbformat": 4,
 "nbformat_minor": 2
}
